{
  "nbformat": 4,
  "nbformat_minor": 0,
  "metadata": {
    "colab": {
      "name": "Untitled0.ipynb",
      "provenance": [],
      "authorship_tag": "ABX9TyM9ccN+w0VPETLPOrz9Hz/P",
      "include_colab_link": true
    },
    "kernelspec": {
      "name": "python3",
      "display_name": "Python 3"
    }
  },
  "cells": [
    {
      "cell_type": "markdown",
      "metadata": {
        "id": "view-in-github",
        "colab_type": "text"
      },
      "source": [
        "<a href=\"https://colab.research.google.com/github/newgabo/TP2-AA/blob/master/Sonidos_Prueba.ipynb\" target=\"_parent\"><img src=\"https://colab.research.google.com/assets/colab-badge.svg\" alt=\"Open In Colab\"/></a>"
      ]
    },
    {
      "cell_type": "markdown",
      "metadata": {
        "id": "u5H-rempJmSl",
        "colab_type": "text"
      },
      "source": [
        "Manipulacion de archivos de audio de prueba generados por nostros"
      ]
    },
    {
      "cell_type": "code",
      "metadata": {
        "id": "4t5Mq9QbM1xv",
        "colab_type": "code",
        "colab": {}
      },
      "source": [
        "# Lista de librerias y parametros\n",
        "import io\n",
        "import requests\n",
        "import os"
      ],
      "execution_count": 7,
      "outputs": []
    },
    {
      "cell_type": "code",
      "metadata": {
        "id": "Sg-ZaEguNMuf",
        "colab_type": "code",
        "colab": {
          "base_uri": "https://localhost:8080/",
          "height": 221
        },
        "outputId": "4fe135db-1b13-4300-f8d2-9f53f8ea5ff8"
      },
      "source": [
        "# Desde GitHub bajo los archivos de sonidos de prueba\n",
        "!mkdir our_speech_examples\n",
        "!wget https://github.com/newgabo/TP2-AA/blob/master/Sonidos_Gabriel.zip -O our_speech_examples/Sonidos_Gabriel.zip"
      ],
      "execution_count": 22,
      "outputs": [
        {
          "output_type": "stream",
          "text": [
            "mkdir: cannot create directory ‘our_speech_examples’: File exists\n",
            "--2020-07-09 15:50:21--  https://github.com/newgabo/TP2-AA/blob/master/Sonidos_Gabriel.zip\n",
            "Resolving github.com (github.com)... 140.82.113.4\n",
            "Connecting to github.com (github.com)|140.82.113.4|:443... connected.\n",
            "HTTP request sent, awaiting response... 200 OK\n",
            "Length: unspecified [text/html]\n",
            "Saving to: ‘our_speech_examples/Sonidos_Gabriel.zip’\n",
            "\n",
            "our_speech_examples     [ <=>                ]  71.20K  --.-KB/s    in 0.03s   \n",
            "\n",
            "2020-07-09 15:50:21 (2.56 MB/s) - ‘our_speech_examples/Sonidos_Gabriel.zip’ saved [72905]\n",
            "\n"
          ],
          "name": "stdout"
        }
      ]
    },
    {
      "cell_type": "code",
      "metadata": {
        "id": "XUEgRi9tKDmr",
        "colab_type": "code",
        "colab": {
          "base_uri": "https://localhost:8080/",
          "height": 1000
        },
        "outputId": "553d942a-be45-4da9-b4a9-a5b5e1a2d5e3"
      },
      "source": [
        "#Descomprimo archivo de sonidos nuestros\n",
        "!unzip /content/our_speech_examples/Sonidos_Gabriel.zip"
      ],
      "execution_count": 24,
      "outputs": [
        {
          "output_type": "stream",
          "text": [
            "Archive:  /content/our_speech_examples/Sonidos_Gabriel.zip\n",
            "   creating: 0-zero/\n",
            "  inflating: 0-zero/zero-01.wav      \n",
            "  inflating: 0-zero/zero-02.wav      \n",
            "  inflating: 0-zero/zero-03.wav      \n",
            "  inflating: 0-zero/zero-04.wav      \n",
            "  inflating: 0-zero/zero-05.wav      \n",
            "  inflating: 0-zero/zero-06.wav      \n",
            "  inflating: 0-zero/zero-07.wav      \n",
            "  inflating: 0-zero/zero-08.wav      \n",
            "  inflating: 0-zero/zero-09.wav      \n",
            "  inflating: 0-zero/zero-10.wav      \n",
            "  inflating: 0-zero/zero-11.wav      \n",
            "  inflating: 0-zero/zero-12.wav      \n",
            "  inflating: 0-zero/zero-13.wav      \n",
            "   creating: 1-one/\n",
            "  inflating: 1-one/one-01.wav        \n",
            "  inflating: 1-one/one-02.wav        \n",
            "  inflating: 1-one/one-03.wav        \n",
            "  inflating: 1-one/one-04.wav        \n",
            "  inflating: 1-one/one-05.wav        \n",
            "  inflating: 1-one/one-06.wav        \n",
            "  inflating: 1-one/one-07.wav        \n",
            "  inflating: 1-one/one-08.wav        \n",
            "  inflating: 1-one/one-09.wav        \n",
            "  inflating: 1-one/one-10.wav        \n",
            "  inflating: 1-one/one-11.wav        \n",
            "  inflating: 1-one/one-12.wav        \n",
            "  inflating: 1-one/one-13.wav        \n",
            "  inflating: 1-one/one-14.wav        \n",
            "  inflating: 1-one/one-15.wav        \n",
            "  inflating: 1-one/one-16.wav        \n",
            "  inflating: 1-one/one-17.wav        \n",
            "  inflating: 1-one/one-18.wav        \n",
            "   creating: 2-two/\n",
            "  inflating: 2-two/two-01.wav        \n",
            "  inflating: 2-two/two-02.wav        \n",
            "  inflating: 2-two/two-03.wav        \n",
            "  inflating: 2-two/two-04.wav        \n",
            "  inflating: 2-two/two-05.wav        \n",
            "  inflating: 2-two/two-06.wav        \n",
            "  inflating: 2-two/two-07.wav        \n",
            "  inflating: 2-two/two-08.wav        \n",
            "  inflating: 2-two/two-09.wav        \n",
            "  inflating: 2-two/two-10.wav        \n",
            "  inflating: 2-two/two-11.wav        \n",
            "  inflating: 2-two/two-12.wav        \n",
            "  inflating: 2-two/two-13.wav        \n",
            "   creating: 3-three/\n",
            "  inflating: 3-three/three-01.wav    \n",
            "  inflating: 3-three/three-02.wav    \n",
            "  inflating: 3-three/three-03.wav    \n",
            "  inflating: 3-three/three-04.wav    \n",
            "  inflating: 3-three/three-05.wav    \n",
            "  inflating: 3-three/three-06.wav    \n",
            "  inflating: 3-three/three-07.wav    \n",
            "  inflating: 3-three/three-08.wav    \n",
            "  inflating: 3-three/three-09.wav    \n",
            "  inflating: 3-three/three-10.wav    \n",
            "  inflating: 3-three/three-11.wav    \n",
            "  inflating: 3-three/three-12.wav    \n",
            "  inflating: 3-three/three-13.wav    \n",
            "  inflating: 3-three/three-14.wav    \n",
            "  inflating: 3-three/three-15.wav    \n",
            "   creating: 4-four/\n",
            "  inflating: 4-four/four-01.wav      \n",
            "  inflating: 4-four/four-02.wav      \n",
            "  inflating: 4-four/four-03.wav      \n",
            "  inflating: 4-four/four-04.wav      \n",
            "  inflating: 4-four/four-05.wav      \n",
            "  inflating: 4-four/four-06.wav      \n",
            "  inflating: 4-four/four-07.wav      \n",
            "  inflating: 4-four/four-08.wav      \n",
            "  inflating: 4-four/four-09.wav      \n",
            "  inflating: 4-four/four-10.wav      \n",
            "  inflating: 4-four/four-11.wav      \n",
            "  inflating: 4-four/four-12.wav      \n",
            "  inflating: 4-four/four-13.wav      \n",
            "   creating: 5-five/\n",
            "  inflating: 5-five/five-01.wav      \n",
            "  inflating: 5-five/five-02.wav      \n",
            "  inflating: 5-five/five-03.wav      \n",
            "  inflating: 5-five/five-04.wav      \n",
            "  inflating: 5-five/five-05.wav      \n",
            "  inflating: 5-five/five-06.wav      \n",
            "  inflating: 5-five/five-07.wav      \n",
            "  inflating: 5-five/five-08.wav      \n",
            "  inflating: 5-five/five-09.wav      \n",
            "  inflating: 5-five/five-11.wav      \n",
            "  inflating: 5-five/five-12.wav      \n",
            "  inflating: 5-five/five-13.wav      \n",
            "  inflating: 5-five/five-14.wav      \n",
            "  inflating: 5-five/five-15.wav      \n",
            "   creating: 6-six/\n",
            "  inflating: 6-six/six-01.wav        \n",
            "  inflating: 6-six/six-02.wav        \n",
            "  inflating: 6-six/six-03.wav        \n",
            "  inflating: 6-six/six-04.wav        \n",
            "  inflating: 6-six/six-05.wav        \n",
            "  inflating: 6-six/six-06.wav        \n",
            "  inflating: 6-six/six-07.wav        \n",
            "  inflating: 6-six/six-08.wav        \n",
            "  inflating: 6-six/six-09.wav        \n",
            "  inflating: 6-six/six-10.wav        \n",
            "  inflating: 6-six/six-11.wav        \n",
            "  inflating: 6-six/six-12.wav        \n",
            "   creating: 7-seven/\n",
            "  inflating: 7-seven/seven-01.wav    \n",
            "  inflating: 7-seven/seven-02.wav    \n",
            "  inflating: 7-seven/seven-03.wav    \n",
            "  inflating: 7-seven/seven-04.wav    \n",
            "  inflating: 7-seven/seven-05.wav    \n",
            "  inflating: 7-seven/seven-06.wav    \n",
            "  inflating: 7-seven/seven-07.wav    \n",
            "  inflating: 7-seven/seven-08.wav    \n",
            "  inflating: 7-seven/seven-09.wav    \n",
            "  inflating: 7-seven/seven-10.wav    \n",
            "   creating: 8-eight/\n",
            "  inflating: 8-eight/eight-01.wav    \n",
            "  inflating: 8-eight/eight-02.wav    \n",
            "  inflating: 8-eight/eight-03.wav    \n",
            "  inflating: 8-eight/eight-04.wav    \n",
            "  inflating: 8-eight/eight-05.wav    \n",
            "  inflating: 8-eight/eight-06.wav    \n",
            "  inflating: 8-eight/eight-07.wav    \n",
            "  inflating: 8-eight/eight-08.wav    \n",
            "  inflating: 8-eight/eight-09.wav    \n",
            "  inflating: 8-eight/eight-10.wav    \n",
            "  inflating: 8-eight/eight-11.wav    \n",
            "  inflating: 8-eight/eight-12.wav    \n",
            "  inflating: 8-eight/eight-13.wav    \n",
            "  inflating: 8-eight/eight-14.wav    \n",
            "  inflating: 8-eight/eight-15.wav    \n",
            "  inflating: 8-eight/eight-16.wav    \n",
            "  inflating: 8-eight/eight-17.wav    \n",
            "   creating: 9-nine/\n",
            "  inflating: 9-nine/nine-01.wav      \n",
            "  inflating: 9-nine/nine-02.wav      \n",
            "  inflating: 9-nine/nine-03.wav      \n",
            "  inflating: 9-nine/nine-04.wav      \n",
            "  inflating: 9-nine/nine-05.wav      \n",
            "  inflating: 9-nine/nine-06.wav      \n",
            "  inflating: 9-nine/nine-07.wav      \n",
            "  inflating: 9-nine/nine-08.wav      \n",
            "  inflating: 9-nine/nine-09.wav      \n",
            "  inflating: 9-nine/nine-10.wav      \n",
            "  inflating: 9-nine/nine-11.wav      \n",
            "  inflating: 9-nine/nine-12.wav      \n",
            "  inflating: 9-nine/nine-13.wav      \n"
          ],
          "name": "stdout"
        }
      ]
    }
  ]
}