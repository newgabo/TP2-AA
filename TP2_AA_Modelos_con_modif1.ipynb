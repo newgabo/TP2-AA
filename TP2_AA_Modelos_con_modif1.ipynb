{
  "nbformat": 4,
  "nbformat_minor": 0,
  "metadata": {
    "colab": {
      "name": "TP2_AA_Modelos_con_modif1.ipynb",
      "provenance": [],
      "collapsed_sections": [],
      "toc_visible": true
    },
    "kernelspec": {
      "name": "python3",
      "display_name": "Python 3"
    },
    "accelerator": "TPU"
  },
  "cells": [
    {
      "cell_type": "markdown",
      "metadata": {
        "id": "BoyLc-0ONNF9",
        "colab_type": "text"
      },
      "source": [
        "Si van a realizar el TP con canto Mongol, que sea bien arriba!\n",
        "\n",
        "https://open.spotify.com/track/4JvM2JzkfRjMYy9pexVeRV?si=6N0bTnkHQOGm-GRvMv7n1A"
      ]
    },
    {
      "cell_type": "markdown",
      "metadata": {
        "id": "R_c_czQsbfcI",
        "colab_type": "text"
      },
      "source": [
        "Import's"
      ]
    },
    {
      "cell_type": "code",
      "metadata": {
        "id": "IMsRuc4CbcG5",
        "colab_type": "code",
        "colab": {
          "base_uri": "https://localhost:8080/",
          "height": 70
        },
        "outputId": "b79a047f-6144-4ec0-e85e-ca166641a384"
      },
      "source": [
        "from io import BytesIO\n",
        "\n",
        "import os\n",
        "import sys\n",
        "import pickle\n",
        "import math\n",
        "import random\n",
        "import requests\n",
        "import matplotlib.pyplot as plt\n",
        "import pandas as pd\n",
        "import numpy as np\n",
        "import seaborn as sns\n",
        "\n",
        "import librosa\n",
        "import glob\n",
        "\n",
        "import scipy.io.wavfile\n",
        "\n",
        "from shutil import copyfile\n",
        "\n",
        "from IPython.display import Audio\n",
        "\n",
        "from sklearn.model_selection import GridSearchCV\n",
        "from sklearn.tree import DecisionTreeClassifier\n",
        "from sklearn.naive_bayes import GaussianNB, MultinomialNB, ComplementNB, BernoulliNB, CategoricalNB\n",
        "from sklearn.ensemble import RandomForestClassifier, GradientBoostingClassifier, BaggingClassifier\n",
        "from sklearn.neural_network import MLPClassifier\n",
        "from sklearn.metrics import accuracy_score, precision_score, recall_score, f1_score, roc_auc_score, fbeta_score, classification_report\n",
        "from sklearn.metrics import plot_confusion_matrix, confusion_matrix\n",
        "from sklearn.model_selection import RandomizedSearchCV\n",
        "\n",
        "# Notación Científica a Decimal\n",
        "pd.set_option('display.float_format', lambda x: '%.3f' % x)"
      ],
      "execution_count": null,
      "outputs": [
        {
          "output_type": "stream",
          "text": [
            "/usr/local/lib/python3.6/dist-packages/statsmodels/tools/_testing.py:19: FutureWarning: pandas.util.testing is deprecated. Use the functions in the public API at pandas.testing instead.\n",
            "  import pandas.util.testing as tm\n"
          ],
          "name": "stderr"
        }
      ]
    },
    {
      "cell_type": "markdown",
      "metadata": {
        "id": "TGtY2wWfbmto",
        "colab_type": "text"
      },
      "source": [
        "# Features"
      ]
    },
    {
      "cell_type": "code",
      "metadata": {
        "id": "kkS_mawYcIgc",
        "colab_type": "code",
        "colab": {
          "base_uri": "https://localhost:8080/",
          "height": 34
        },
        "outputId": "dda7d503-b68b-4d7a-f757-490797b3d681"
      },
      "source": [
        "# Desde nuestro repo!\n",
        "github_Link_ = 'https://github.com/newgabo/TP2-AA/blob/master/feat_numbers_modif1.p?raw=true'\n",
        "file_ = BytesIO(requests.get(github_Link_).content)\n",
        "df_features = pickle.load(file_)\n",
        "\n",
        "df_features.shape # ahora tiene 55 atributos"
      ],
      "execution_count": null,
      "outputs": [
        {
          "output_type": "execute_result",
          "data": {
            "text/plain": [
              "(23666, 55)"
            ]
          },
          "metadata": {
            "tags": []
          },
          "execution_count": 2
        }
      ]
    },
    {
      "cell_type": "code",
      "metadata": {
        "id": "xwc6aGSrcc1p",
        "colab_type": "code",
        "colab": {
          "base_uri": "https://localhost:8080/",
          "height": 158
        },
        "outputId": "1bf7ab2a-f38d-47cc-a767-1533c08125d4"
      },
      "source": [
        "df_features.head(3)"
      ],
      "execution_count": null,
      "outputs": [
        {
          "output_type": "execute_result",
          "data": {
            "text/html": [
              "<div>\n",
              "<style scoped>\n",
              "    .dataframe tbody tr th:only-of-type {\n",
              "        vertical-align: middle;\n",
              "    }\n",
              "\n",
              "    .dataframe tbody tr th {\n",
              "        vertical-align: top;\n",
              "    }\n",
              "\n",
              "    .dataframe thead th {\n",
              "        text-align: right;\n",
              "    }\n",
              "</style>\n",
              "<table border=\"1\" class=\"dataframe\">\n",
              "  <thead>\n",
              "    <tr style=\"text-align: right;\">\n",
              "      <th></th>\n",
              "      <th>mfcc_0_mean</th>\n",
              "      <th>mfcc_1_mean</th>\n",
              "      <th>mfcc_2_mean</th>\n",
              "      <th>mfcc_3_mean</th>\n",
              "      <th>mfcc_4_mean</th>\n",
              "      <th>mfcc_5_mean</th>\n",
              "      <th>mfcc_6_mean</th>\n",
              "      <th>mfcc_7_mean</th>\n",
              "      <th>mfcc_8_mean</th>\n",
              "      <th>mfcc_9_mean</th>\n",
              "      <th>mfcc_10_mean</th>\n",
              "      <th>mfcc_11_mean</th>\n",
              "      <th>energy_mean</th>\n",
              "      <th>mfcc_0_std</th>\n",
              "      <th>mfcc_1_std</th>\n",
              "      <th>mfcc_2_std</th>\n",
              "      <th>mfcc_3_std</th>\n",
              "      <th>mfcc_4_std</th>\n",
              "      <th>mfcc_5_std</th>\n",
              "      <th>mfcc_6_std</th>\n",
              "      <th>mfcc_7_std</th>\n",
              "      <th>mfcc_8_std</th>\n",
              "      <th>mfcc_9_std</th>\n",
              "      <th>mfcc_10_std</th>\n",
              "      <th>mfcc_11_std</th>\n",
              "      <th>energy_std</th>\n",
              "      <th>dmfcc_0_mean</th>\n",
              "      <th>dmfcc_1_mean</th>\n",
              "      <th>dmfcc_2_mean</th>\n",
              "      <th>dmfcc_3_mean</th>\n",
              "      <th>dmfcc_4_mean</th>\n",
              "      <th>dmfcc_5_mean</th>\n",
              "      <th>dmfcc_6_mean</th>\n",
              "      <th>dmfcc_7_mean</th>\n",
              "      <th>dmfcc_8_mean</th>\n",
              "      <th>dmfcc_9_mean</th>\n",
              "      <th>dmfcc_10_mean</th>\n",
              "      <th>dmfcc_11_mean</th>\n",
              "      <th>denergy_mean</th>\n",
              "      <th>dmfcc_0_std</th>\n",
              "      <th>dmfcc_1_std</th>\n",
              "      <th>dmfcc_2_std</th>\n",
              "      <th>dmfcc_3_std</th>\n",
              "      <th>dmfcc_4_std</th>\n",
              "      <th>dmfcc_5_std</th>\n",
              "      <th>dmfcc_6_std</th>\n",
              "      <th>dmfcc_7_std</th>\n",
              "      <th>dmfcc_8_std</th>\n",
              "      <th>dmfcc_9_std</th>\n",
              "      <th>dmfcc_10_std</th>\n",
              "      <th>dmfcc_11_std</th>\n",
              "      <th>denergy_std</th>\n",
              "      <th>target</th>\n",
              "      <th>file</th>\n",
              "      <th>group</th>\n",
              "    </tr>\n",
              "  </thead>\n",
              "  <tbody>\n",
              "    <tr>\n",
              "      <th>0</th>\n",
              "      <td>-310.374</td>\n",
              "      <td>108.100</td>\n",
              "      <td>-35.916</td>\n",
              "      <td>33.898</td>\n",
              "      <td>-30.267</td>\n",
              "      <td>21.805</td>\n",
              "      <td>-8.092</td>\n",
              "      <td>3.689</td>\n",
              "      <td>-27.701</td>\n",
              "      <td>14.653</td>\n",
              "      <td>-12.138</td>\n",
              "      <td>6.300</td>\n",
              "      <td>0.031</td>\n",
              "      <td>108.336</td>\n",
              "      <td>39.960</td>\n",
              "      <td>37.495</td>\n",
              "      <td>25.415</td>\n",
              "      <td>24.366</td>\n",
              "      <td>9.490</td>\n",
              "      <td>13.302</td>\n",
              "      <td>18.481</td>\n",
              "      <td>21.117</td>\n",
              "      <td>10.857</td>\n",
              "      <td>19.096</td>\n",
              "      <td>8.230</td>\n",
              "      <td>0.031</td>\n",
              "      <td>0.387</td>\n",
              "      <td>0.140</td>\n",
              "      <td>0.346</td>\n",
              "      <td>0.282</td>\n",
              "      <td>-0.023</td>\n",
              "      <td>-0.227</td>\n",
              "      <td>-0.207</td>\n",
              "      <td>-0.088</td>\n",
              "      <td>-0.127</td>\n",
              "      <td>-0.141</td>\n",
              "      <td>-0.326</td>\n",
              "      <td>-0.018</td>\n",
              "      <td>0.000</td>\n",
              "      <td>26.726</td>\n",
              "      <td>16.173</td>\n",
              "      <td>16.424</td>\n",
              "      <td>14.687</td>\n",
              "      <td>8.464</td>\n",
              "      <td>6.998</td>\n",
              "      <td>6.601</td>\n",
              "      <td>6.912</td>\n",
              "      <td>9.370</td>\n",
              "      <td>7.608</td>\n",
              "      <td>8.762</td>\n",
              "      <td>4.283</td>\n",
              "      <td>0.007</td>\n",
              "      <td>zero</td>\n",
              "      <td>zero/8dd788d8_nohash_1.wav</td>\n",
              "      <td>train_modif1</td>\n",
              "    </tr>\n",
              "    <tr>\n",
              "      <th>1</th>\n",
              "      <td>-268.941</td>\n",
              "      <td>109.095</td>\n",
              "      <td>18.249</td>\n",
              "      <td>39.821</td>\n",
              "      <td>27.162</td>\n",
              "      <td>26.775</td>\n",
              "      <td>-2.064</td>\n",
              "      <td>13.449</td>\n",
              "      <td>-2.512</td>\n",
              "      <td>17.021</td>\n",
              "      <td>0.486</td>\n",
              "      <td>6.682</td>\n",
              "      <td>0.077</td>\n",
              "      <td>96.166</td>\n",
              "      <td>30.126</td>\n",
              "      <td>43.767</td>\n",
              "      <td>17.851</td>\n",
              "      <td>16.964</td>\n",
              "      <td>16.509</td>\n",
              "      <td>21.947</td>\n",
              "      <td>16.440</td>\n",
              "      <td>9.671</td>\n",
              "      <td>9.597</td>\n",
              "      <td>5.873</td>\n",
              "      <td>7.696</td>\n",
              "      <td>0.040</td>\n",
              "      <td>0.264</td>\n",
              "      <td>0.023</td>\n",
              "      <td>-0.046</td>\n",
              "      <td>0.146</td>\n",
              "      <td>0.428</td>\n",
              "      <td>0.324</td>\n",
              "      <td>0.058</td>\n",
              "      <td>0.009</td>\n",
              "      <td>0.045</td>\n",
              "      <td>0.114</td>\n",
              "      <td>0.019</td>\n",
              "      <td>0.323</td>\n",
              "      <td>0.001</td>\n",
              "      <td>28.657</td>\n",
              "      <td>11.932</td>\n",
              "      <td>17.403</td>\n",
              "      <td>11.298</td>\n",
              "      <td>10.951</td>\n",
              "      <td>7.077</td>\n",
              "      <td>8.351</td>\n",
              "      <td>7.237</td>\n",
              "      <td>7.127</td>\n",
              "      <td>5.511</td>\n",
              "      <td>4.308</td>\n",
              "      <td>6.000</td>\n",
              "      <td>0.011</td>\n",
              "      <td>zero</td>\n",
              "      <td>zero/6021f08b_nohash_0.wav</td>\n",
              "      <td>testing_modif1</td>\n",
              "    </tr>\n",
              "    <tr>\n",
              "      <th>2</th>\n",
              "      <td>-162.838</td>\n",
              "      <td>89.749</td>\n",
              "      <td>-11.774</td>\n",
              "      <td>-5.650</td>\n",
              "      <td>-21.146</td>\n",
              "      <td>-21.873</td>\n",
              "      <td>-24.375</td>\n",
              "      <td>-16.364</td>\n",
              "      <td>-14.993</td>\n",
              "      <td>-7.609</td>\n",
              "      <td>-5.995</td>\n",
              "      <td>-3.803</td>\n",
              "      <td>0.285</td>\n",
              "      <td>152.889</td>\n",
              "      <td>50.147</td>\n",
              "      <td>51.633</td>\n",
              "      <td>30.597</td>\n",
              "      <td>27.041</td>\n",
              "      <td>18.821</td>\n",
              "      <td>14.215</td>\n",
              "      <td>8.143</td>\n",
              "      <td>13.275</td>\n",
              "      <td>10.120</td>\n",
              "      <td>20.489</td>\n",
              "      <td>10.556</td>\n",
              "      <td>0.198</td>\n",
              "      <td>-3.658</td>\n",
              "      <td>-3.630</td>\n",
              "      <td>-2.661</td>\n",
              "      <td>-0.664</td>\n",
              "      <td>-0.389</td>\n",
              "      <td>1.117</td>\n",
              "      <td>1.270</td>\n",
              "      <td>0.650</td>\n",
              "      <td>0.047</td>\n",
              "      <td>-0.136</td>\n",
              "      <td>0.548</td>\n",
              "      <td>0.521</td>\n",
              "      <td>-0.005</td>\n",
              "      <td>42.930</td>\n",
              "      <td>20.239</td>\n",
              "      <td>14.609</td>\n",
              "      <td>14.109</td>\n",
              "      <td>12.219</td>\n",
              "      <td>9.439</td>\n",
              "      <td>6.818</td>\n",
              "      <td>6.981</td>\n",
              "      <td>7.234</td>\n",
              "      <td>8.433</td>\n",
              "      <td>8.975</td>\n",
              "      <td>5.925</td>\n",
              "      <td>0.055</td>\n",
              "      <td>zero</td>\n",
              "      <td>zero/5aac2efa_nohash_0.wav</td>\n",
              "      <td>train_modif1</td>\n",
              "    </tr>\n",
              "  </tbody>\n",
              "</table>\n",
              "</div>"
            ],
            "text/plain": [
              "   mfcc_0_mean  mfcc_1_mean  ...                        file           group\n",
              "0     -310.374      108.100  ...  zero/8dd788d8_nohash_1.wav    train_modif1\n",
              "1     -268.941      109.095  ...  zero/6021f08b_nohash_0.wav  testing_modif1\n",
              "2     -162.838       89.749  ...  zero/5aac2efa_nohash_0.wav    train_modif1\n",
              "\n",
              "[3 rows x 55 columns]"
            ]
          },
          "metadata": {
            "tags": []
          },
          "execution_count": 3
        }
      ]
    },
    {
      "cell_type": "code",
      "metadata": {
        "id": "n64g40JKckFo",
        "colab_type": "code",
        "colab": {
          "base_uri": "https://localhost:8080/",
          "height": 393
        },
        "outputId": "3c057a06-36b6-460f-90a4-f341f240aa7a"
      },
      "source": [
        "# Algunos controles para yo entender la data nuevamente\n",
        "df_features.groupby('target').count()"
      ],
      "execution_count": null,
      "outputs": [
        {
          "output_type": "execute_result",
          "data": {
            "text/html": [
              "<div>\n",
              "<style scoped>\n",
              "    .dataframe tbody tr th:only-of-type {\n",
              "        vertical-align: middle;\n",
              "    }\n",
              "\n",
              "    .dataframe tbody tr th {\n",
              "        vertical-align: top;\n",
              "    }\n",
              "\n",
              "    .dataframe thead th {\n",
              "        text-align: right;\n",
              "    }\n",
              "</style>\n",
              "<table border=\"1\" class=\"dataframe\">\n",
              "  <thead>\n",
              "    <tr style=\"text-align: right;\">\n",
              "      <th></th>\n",
              "      <th>mfcc_0_mean</th>\n",
              "      <th>mfcc_1_mean</th>\n",
              "      <th>mfcc_2_mean</th>\n",
              "      <th>mfcc_3_mean</th>\n",
              "      <th>mfcc_4_mean</th>\n",
              "      <th>mfcc_5_mean</th>\n",
              "      <th>mfcc_6_mean</th>\n",
              "      <th>mfcc_7_mean</th>\n",
              "      <th>mfcc_8_mean</th>\n",
              "      <th>mfcc_9_mean</th>\n",
              "      <th>mfcc_10_mean</th>\n",
              "      <th>mfcc_11_mean</th>\n",
              "      <th>energy_mean</th>\n",
              "      <th>mfcc_0_std</th>\n",
              "      <th>mfcc_1_std</th>\n",
              "      <th>mfcc_2_std</th>\n",
              "      <th>mfcc_3_std</th>\n",
              "      <th>mfcc_4_std</th>\n",
              "      <th>mfcc_5_std</th>\n",
              "      <th>mfcc_6_std</th>\n",
              "      <th>mfcc_7_std</th>\n",
              "      <th>mfcc_8_std</th>\n",
              "      <th>mfcc_9_std</th>\n",
              "      <th>mfcc_10_std</th>\n",
              "      <th>mfcc_11_std</th>\n",
              "      <th>energy_std</th>\n",
              "      <th>dmfcc_0_mean</th>\n",
              "      <th>dmfcc_1_mean</th>\n",
              "      <th>dmfcc_2_mean</th>\n",
              "      <th>dmfcc_3_mean</th>\n",
              "      <th>dmfcc_4_mean</th>\n",
              "      <th>dmfcc_5_mean</th>\n",
              "      <th>dmfcc_6_mean</th>\n",
              "      <th>dmfcc_7_mean</th>\n",
              "      <th>dmfcc_8_mean</th>\n",
              "      <th>dmfcc_9_mean</th>\n",
              "      <th>dmfcc_10_mean</th>\n",
              "      <th>dmfcc_11_mean</th>\n",
              "      <th>denergy_mean</th>\n",
              "      <th>dmfcc_0_std</th>\n",
              "      <th>dmfcc_1_std</th>\n",
              "      <th>dmfcc_2_std</th>\n",
              "      <th>dmfcc_3_std</th>\n",
              "      <th>dmfcc_4_std</th>\n",
              "      <th>dmfcc_5_std</th>\n",
              "      <th>dmfcc_6_std</th>\n",
              "      <th>dmfcc_7_std</th>\n",
              "      <th>dmfcc_8_std</th>\n",
              "      <th>dmfcc_9_std</th>\n",
              "      <th>dmfcc_10_std</th>\n",
              "      <th>dmfcc_11_std</th>\n",
              "      <th>denergy_std</th>\n",
              "      <th>file</th>\n",
              "      <th>group</th>\n",
              "    </tr>\n",
              "    <tr>\n",
              "      <th>target</th>\n",
              "      <th></th>\n",
              "      <th></th>\n",
              "      <th></th>\n",
              "      <th></th>\n",
              "      <th></th>\n",
              "      <th></th>\n",
              "      <th></th>\n",
              "      <th></th>\n",
              "      <th></th>\n",
              "      <th></th>\n",
              "      <th></th>\n",
              "      <th></th>\n",
              "      <th></th>\n",
              "      <th></th>\n",
              "      <th></th>\n",
              "      <th></th>\n",
              "      <th></th>\n",
              "      <th></th>\n",
              "      <th></th>\n",
              "      <th></th>\n",
              "      <th></th>\n",
              "      <th></th>\n",
              "      <th></th>\n",
              "      <th></th>\n",
              "      <th></th>\n",
              "      <th></th>\n",
              "      <th></th>\n",
              "      <th></th>\n",
              "      <th></th>\n",
              "      <th></th>\n",
              "      <th></th>\n",
              "      <th></th>\n",
              "      <th></th>\n",
              "      <th></th>\n",
              "      <th></th>\n",
              "      <th></th>\n",
              "      <th></th>\n",
              "      <th></th>\n",
              "      <th></th>\n",
              "      <th></th>\n",
              "      <th></th>\n",
              "      <th></th>\n",
              "      <th></th>\n",
              "      <th></th>\n",
              "      <th></th>\n",
              "      <th></th>\n",
              "      <th></th>\n",
              "      <th></th>\n",
              "      <th></th>\n",
              "      <th></th>\n",
              "      <th></th>\n",
              "      <th></th>\n",
              "      <th></th>\n",
              "      <th></th>\n",
              "    </tr>\n",
              "  </thead>\n",
              "  <tbody>\n",
              "    <tr>\n",
              "      <th>eight</th>\n",
              "      <td>2352</td>\n",
              "      <td>2352</td>\n",
              "      <td>2352</td>\n",
              "      <td>2352</td>\n",
              "      <td>2352</td>\n",
              "      <td>2352</td>\n",
              "      <td>2352</td>\n",
              "      <td>2352</td>\n",
              "      <td>2352</td>\n",
              "      <td>2352</td>\n",
              "      <td>2352</td>\n",
              "      <td>2352</td>\n",
              "      <td>2352</td>\n",
              "      <td>2352</td>\n",
              "      <td>2352</td>\n",
              "      <td>2352</td>\n",
              "      <td>2352</td>\n",
              "      <td>2352</td>\n",
              "      <td>2352</td>\n",
              "      <td>2352</td>\n",
              "      <td>2352</td>\n",
              "      <td>2352</td>\n",
              "      <td>2352</td>\n",
              "      <td>2352</td>\n",
              "      <td>2352</td>\n",
              "      <td>2352</td>\n",
              "      <td>2352</td>\n",
              "      <td>2352</td>\n",
              "      <td>2352</td>\n",
              "      <td>2352</td>\n",
              "      <td>2352</td>\n",
              "      <td>2352</td>\n",
              "      <td>2352</td>\n",
              "      <td>2352</td>\n",
              "      <td>2352</td>\n",
              "      <td>2352</td>\n",
              "      <td>2352</td>\n",
              "      <td>2352</td>\n",
              "      <td>2352</td>\n",
              "      <td>2352</td>\n",
              "      <td>2352</td>\n",
              "      <td>2352</td>\n",
              "      <td>2352</td>\n",
              "      <td>2352</td>\n",
              "      <td>2352</td>\n",
              "      <td>2352</td>\n",
              "      <td>2352</td>\n",
              "      <td>2352</td>\n",
              "      <td>2352</td>\n",
              "      <td>2352</td>\n",
              "      <td>2352</td>\n",
              "      <td>2352</td>\n",
              "      <td>2352</td>\n",
              "      <td>2352</td>\n",
              "    </tr>\n",
              "    <tr>\n",
              "      <th>five</th>\n",
              "      <td>2357</td>\n",
              "      <td>2357</td>\n",
              "      <td>2357</td>\n",
              "      <td>2357</td>\n",
              "      <td>2357</td>\n",
              "      <td>2357</td>\n",
              "      <td>2357</td>\n",
              "      <td>2357</td>\n",
              "      <td>2357</td>\n",
              "      <td>2357</td>\n",
              "      <td>2357</td>\n",
              "      <td>2357</td>\n",
              "      <td>2357</td>\n",
              "      <td>2357</td>\n",
              "      <td>2357</td>\n",
              "      <td>2357</td>\n",
              "      <td>2357</td>\n",
              "      <td>2357</td>\n",
              "      <td>2357</td>\n",
              "      <td>2357</td>\n",
              "      <td>2357</td>\n",
              "      <td>2357</td>\n",
              "      <td>2357</td>\n",
              "      <td>2357</td>\n",
              "      <td>2357</td>\n",
              "      <td>2357</td>\n",
              "      <td>2357</td>\n",
              "      <td>2357</td>\n",
              "      <td>2357</td>\n",
              "      <td>2357</td>\n",
              "      <td>2357</td>\n",
              "      <td>2357</td>\n",
              "      <td>2357</td>\n",
              "      <td>2357</td>\n",
              "      <td>2357</td>\n",
              "      <td>2357</td>\n",
              "      <td>2357</td>\n",
              "      <td>2357</td>\n",
              "      <td>2357</td>\n",
              "      <td>2357</td>\n",
              "      <td>2357</td>\n",
              "      <td>2357</td>\n",
              "      <td>2357</td>\n",
              "      <td>2357</td>\n",
              "      <td>2357</td>\n",
              "      <td>2357</td>\n",
              "      <td>2357</td>\n",
              "      <td>2357</td>\n",
              "      <td>2357</td>\n",
              "      <td>2357</td>\n",
              "      <td>2357</td>\n",
              "      <td>2357</td>\n",
              "      <td>2357</td>\n",
              "      <td>2357</td>\n",
              "    </tr>\n",
              "    <tr>\n",
              "      <th>four</th>\n",
              "      <td>2372</td>\n",
              "      <td>2372</td>\n",
              "      <td>2372</td>\n",
              "      <td>2372</td>\n",
              "      <td>2372</td>\n",
              "      <td>2372</td>\n",
              "      <td>2372</td>\n",
              "      <td>2372</td>\n",
              "      <td>2372</td>\n",
              "      <td>2372</td>\n",
              "      <td>2372</td>\n",
              "      <td>2372</td>\n",
              "      <td>2372</td>\n",
              "      <td>2372</td>\n",
              "      <td>2372</td>\n",
              "      <td>2372</td>\n",
              "      <td>2372</td>\n",
              "      <td>2372</td>\n",
              "      <td>2372</td>\n",
              "      <td>2372</td>\n",
              "      <td>2372</td>\n",
              "      <td>2372</td>\n",
              "      <td>2372</td>\n",
              "      <td>2372</td>\n",
              "      <td>2372</td>\n",
              "      <td>2372</td>\n",
              "      <td>2372</td>\n",
              "      <td>2372</td>\n",
              "      <td>2372</td>\n",
              "      <td>2372</td>\n",
              "      <td>2372</td>\n",
              "      <td>2372</td>\n",
              "      <td>2372</td>\n",
              "      <td>2372</td>\n",
              "      <td>2372</td>\n",
              "      <td>2372</td>\n",
              "      <td>2372</td>\n",
              "      <td>2372</td>\n",
              "      <td>2372</td>\n",
              "      <td>2372</td>\n",
              "      <td>2372</td>\n",
              "      <td>2372</td>\n",
              "      <td>2372</td>\n",
              "      <td>2372</td>\n",
              "      <td>2372</td>\n",
              "      <td>2372</td>\n",
              "      <td>2372</td>\n",
              "      <td>2372</td>\n",
              "      <td>2372</td>\n",
              "      <td>2372</td>\n",
              "      <td>2372</td>\n",
              "      <td>2372</td>\n",
              "      <td>2372</td>\n",
              "      <td>2372</td>\n",
              "    </tr>\n",
              "    <tr>\n",
              "      <th>nine</th>\n",
              "      <td>2364</td>\n",
              "      <td>2364</td>\n",
              "      <td>2364</td>\n",
              "      <td>2364</td>\n",
              "      <td>2364</td>\n",
              "      <td>2364</td>\n",
              "      <td>2364</td>\n",
              "      <td>2364</td>\n",
              "      <td>2364</td>\n",
              "      <td>2364</td>\n",
              "      <td>2364</td>\n",
              "      <td>2364</td>\n",
              "      <td>2364</td>\n",
              "      <td>2364</td>\n",
              "      <td>2364</td>\n",
              "      <td>2364</td>\n",
              "      <td>2364</td>\n",
              "      <td>2364</td>\n",
              "      <td>2364</td>\n",
              "      <td>2364</td>\n",
              "      <td>2364</td>\n",
              "      <td>2364</td>\n",
              "      <td>2364</td>\n",
              "      <td>2364</td>\n",
              "      <td>2364</td>\n",
              "      <td>2364</td>\n",
              "      <td>2364</td>\n",
              "      <td>2364</td>\n",
              "      <td>2364</td>\n",
              "      <td>2364</td>\n",
              "      <td>2364</td>\n",
              "      <td>2364</td>\n",
              "      <td>2364</td>\n",
              "      <td>2364</td>\n",
              "      <td>2364</td>\n",
              "      <td>2364</td>\n",
              "      <td>2364</td>\n",
              "      <td>2364</td>\n",
              "      <td>2364</td>\n",
              "      <td>2364</td>\n",
              "      <td>2364</td>\n",
              "      <td>2364</td>\n",
              "      <td>2364</td>\n",
              "      <td>2364</td>\n",
              "      <td>2364</td>\n",
              "      <td>2364</td>\n",
              "      <td>2364</td>\n",
              "      <td>2364</td>\n",
              "      <td>2364</td>\n",
              "      <td>2364</td>\n",
              "      <td>2364</td>\n",
              "      <td>2364</td>\n",
              "      <td>2364</td>\n",
              "      <td>2364</td>\n",
              "    </tr>\n",
              "    <tr>\n",
              "      <th>one</th>\n",
              "      <td>2370</td>\n",
              "      <td>2370</td>\n",
              "      <td>2370</td>\n",
              "      <td>2370</td>\n",
              "      <td>2370</td>\n",
              "      <td>2370</td>\n",
              "      <td>2370</td>\n",
              "      <td>2370</td>\n",
              "      <td>2370</td>\n",
              "      <td>2370</td>\n",
              "      <td>2370</td>\n",
              "      <td>2370</td>\n",
              "      <td>2370</td>\n",
              "      <td>2370</td>\n",
              "      <td>2370</td>\n",
              "      <td>2370</td>\n",
              "      <td>2370</td>\n",
              "      <td>2370</td>\n",
              "      <td>2370</td>\n",
              "      <td>2370</td>\n",
              "      <td>2370</td>\n",
              "      <td>2370</td>\n",
              "      <td>2370</td>\n",
              "      <td>2370</td>\n",
              "      <td>2370</td>\n",
              "      <td>2370</td>\n",
              "      <td>2370</td>\n",
              "      <td>2370</td>\n",
              "      <td>2370</td>\n",
              "      <td>2370</td>\n",
              "      <td>2370</td>\n",
              "      <td>2370</td>\n",
              "      <td>2370</td>\n",
              "      <td>2370</td>\n",
              "      <td>2370</td>\n",
              "      <td>2370</td>\n",
              "      <td>2370</td>\n",
              "      <td>2370</td>\n",
              "      <td>2370</td>\n",
              "      <td>2370</td>\n",
              "      <td>2370</td>\n",
              "      <td>2370</td>\n",
              "      <td>2370</td>\n",
              "      <td>2370</td>\n",
              "      <td>2370</td>\n",
              "      <td>2370</td>\n",
              "      <td>2370</td>\n",
              "      <td>2370</td>\n",
              "      <td>2370</td>\n",
              "      <td>2370</td>\n",
              "      <td>2370</td>\n",
              "      <td>2370</td>\n",
              "      <td>2370</td>\n",
              "      <td>2370</td>\n",
              "    </tr>\n",
              "    <tr>\n",
              "      <th>seven</th>\n",
              "      <td>2377</td>\n",
              "      <td>2377</td>\n",
              "      <td>2377</td>\n",
              "      <td>2377</td>\n",
              "      <td>2377</td>\n",
              "      <td>2377</td>\n",
              "      <td>2377</td>\n",
              "      <td>2377</td>\n",
              "      <td>2377</td>\n",
              "      <td>2377</td>\n",
              "      <td>2377</td>\n",
              "      <td>2377</td>\n",
              "      <td>2377</td>\n",
              "      <td>2377</td>\n",
              "      <td>2377</td>\n",
              "      <td>2377</td>\n",
              "      <td>2377</td>\n",
              "      <td>2377</td>\n",
              "      <td>2377</td>\n",
              "      <td>2377</td>\n",
              "      <td>2377</td>\n",
              "      <td>2377</td>\n",
              "      <td>2377</td>\n",
              "      <td>2377</td>\n",
              "      <td>2377</td>\n",
              "      <td>2377</td>\n",
              "      <td>2377</td>\n",
              "      <td>2377</td>\n",
              "      <td>2377</td>\n",
              "      <td>2377</td>\n",
              "      <td>2377</td>\n",
              "      <td>2377</td>\n",
              "      <td>2377</td>\n",
              "      <td>2377</td>\n",
              "      <td>2377</td>\n",
              "      <td>2377</td>\n",
              "      <td>2377</td>\n",
              "      <td>2377</td>\n",
              "      <td>2377</td>\n",
              "      <td>2377</td>\n",
              "      <td>2377</td>\n",
              "      <td>2377</td>\n",
              "      <td>2377</td>\n",
              "      <td>2377</td>\n",
              "      <td>2377</td>\n",
              "      <td>2377</td>\n",
              "      <td>2377</td>\n",
              "      <td>2377</td>\n",
              "      <td>2377</td>\n",
              "      <td>2377</td>\n",
              "      <td>2377</td>\n",
              "      <td>2377</td>\n",
              "      <td>2377</td>\n",
              "      <td>2377</td>\n",
              "    </tr>\n",
              "    <tr>\n",
              "      <th>six</th>\n",
              "      <td>2369</td>\n",
              "      <td>2369</td>\n",
              "      <td>2369</td>\n",
              "      <td>2369</td>\n",
              "      <td>2369</td>\n",
              "      <td>2369</td>\n",
              "      <td>2369</td>\n",
              "      <td>2369</td>\n",
              "      <td>2369</td>\n",
              "      <td>2369</td>\n",
              "      <td>2369</td>\n",
              "      <td>2369</td>\n",
              "      <td>2369</td>\n",
              "      <td>2369</td>\n",
              "      <td>2369</td>\n",
              "      <td>2369</td>\n",
              "      <td>2369</td>\n",
              "      <td>2369</td>\n",
              "      <td>2369</td>\n",
              "      <td>2369</td>\n",
              "      <td>2369</td>\n",
              "      <td>2369</td>\n",
              "      <td>2369</td>\n",
              "      <td>2369</td>\n",
              "      <td>2369</td>\n",
              "      <td>2369</td>\n",
              "      <td>2369</td>\n",
              "      <td>2369</td>\n",
              "      <td>2369</td>\n",
              "      <td>2369</td>\n",
              "      <td>2369</td>\n",
              "      <td>2369</td>\n",
              "      <td>2369</td>\n",
              "      <td>2369</td>\n",
              "      <td>2369</td>\n",
              "      <td>2369</td>\n",
              "      <td>2369</td>\n",
              "      <td>2369</td>\n",
              "      <td>2369</td>\n",
              "      <td>2369</td>\n",
              "      <td>2369</td>\n",
              "      <td>2369</td>\n",
              "      <td>2369</td>\n",
              "      <td>2369</td>\n",
              "      <td>2369</td>\n",
              "      <td>2369</td>\n",
              "      <td>2369</td>\n",
              "      <td>2369</td>\n",
              "      <td>2369</td>\n",
              "      <td>2369</td>\n",
              "      <td>2369</td>\n",
              "      <td>2369</td>\n",
              "      <td>2369</td>\n",
              "      <td>2369</td>\n",
              "    </tr>\n",
              "    <tr>\n",
              "      <th>three</th>\n",
              "      <td>2356</td>\n",
              "      <td>2356</td>\n",
              "      <td>2356</td>\n",
              "      <td>2356</td>\n",
              "      <td>2356</td>\n",
              "      <td>2356</td>\n",
              "      <td>2356</td>\n",
              "      <td>2356</td>\n",
              "      <td>2356</td>\n",
              "      <td>2356</td>\n",
              "      <td>2356</td>\n",
              "      <td>2356</td>\n",
              "      <td>2356</td>\n",
              "      <td>2356</td>\n",
              "      <td>2356</td>\n",
              "      <td>2356</td>\n",
              "      <td>2356</td>\n",
              "      <td>2356</td>\n",
              "      <td>2356</td>\n",
              "      <td>2356</td>\n",
              "      <td>2356</td>\n",
              "      <td>2356</td>\n",
              "      <td>2356</td>\n",
              "      <td>2356</td>\n",
              "      <td>2356</td>\n",
              "      <td>2356</td>\n",
              "      <td>2356</td>\n",
              "      <td>2356</td>\n",
              "      <td>2356</td>\n",
              "      <td>2356</td>\n",
              "      <td>2356</td>\n",
              "      <td>2356</td>\n",
              "      <td>2356</td>\n",
              "      <td>2356</td>\n",
              "      <td>2356</td>\n",
              "      <td>2356</td>\n",
              "      <td>2356</td>\n",
              "      <td>2356</td>\n",
              "      <td>2356</td>\n",
              "      <td>2356</td>\n",
              "      <td>2356</td>\n",
              "      <td>2356</td>\n",
              "      <td>2356</td>\n",
              "      <td>2356</td>\n",
              "      <td>2356</td>\n",
              "      <td>2356</td>\n",
              "      <td>2356</td>\n",
              "      <td>2356</td>\n",
              "      <td>2356</td>\n",
              "      <td>2356</td>\n",
              "      <td>2356</td>\n",
              "      <td>2356</td>\n",
              "      <td>2356</td>\n",
              "      <td>2356</td>\n",
              "    </tr>\n",
              "    <tr>\n",
              "      <th>two</th>\n",
              "      <td>2373</td>\n",
              "      <td>2373</td>\n",
              "      <td>2373</td>\n",
              "      <td>2373</td>\n",
              "      <td>2373</td>\n",
              "      <td>2373</td>\n",
              "      <td>2373</td>\n",
              "      <td>2373</td>\n",
              "      <td>2373</td>\n",
              "      <td>2373</td>\n",
              "      <td>2373</td>\n",
              "      <td>2373</td>\n",
              "      <td>2373</td>\n",
              "      <td>2373</td>\n",
              "      <td>2373</td>\n",
              "      <td>2373</td>\n",
              "      <td>2373</td>\n",
              "      <td>2373</td>\n",
              "      <td>2373</td>\n",
              "      <td>2373</td>\n",
              "      <td>2373</td>\n",
              "      <td>2373</td>\n",
              "      <td>2373</td>\n",
              "      <td>2373</td>\n",
              "      <td>2373</td>\n",
              "      <td>2373</td>\n",
              "      <td>2373</td>\n",
              "      <td>2373</td>\n",
              "      <td>2373</td>\n",
              "      <td>2373</td>\n",
              "      <td>2373</td>\n",
              "      <td>2373</td>\n",
              "      <td>2373</td>\n",
              "      <td>2373</td>\n",
              "      <td>2373</td>\n",
              "      <td>2373</td>\n",
              "      <td>2373</td>\n",
              "      <td>2373</td>\n",
              "      <td>2373</td>\n",
              "      <td>2373</td>\n",
              "      <td>2373</td>\n",
              "      <td>2373</td>\n",
              "      <td>2373</td>\n",
              "      <td>2373</td>\n",
              "      <td>2373</td>\n",
              "      <td>2373</td>\n",
              "      <td>2373</td>\n",
              "      <td>2373</td>\n",
              "      <td>2373</td>\n",
              "      <td>2373</td>\n",
              "      <td>2373</td>\n",
              "      <td>2373</td>\n",
              "      <td>2373</td>\n",
              "      <td>2373</td>\n",
              "    </tr>\n",
              "    <tr>\n",
              "      <th>zero</th>\n",
              "      <td>2376</td>\n",
              "      <td>2376</td>\n",
              "      <td>2376</td>\n",
              "      <td>2376</td>\n",
              "      <td>2376</td>\n",
              "      <td>2376</td>\n",
              "      <td>2376</td>\n",
              "      <td>2376</td>\n",
              "      <td>2376</td>\n",
              "      <td>2376</td>\n",
              "      <td>2376</td>\n",
              "      <td>2376</td>\n",
              "      <td>2376</td>\n",
              "      <td>2376</td>\n",
              "      <td>2376</td>\n",
              "      <td>2376</td>\n",
              "      <td>2376</td>\n",
              "      <td>2376</td>\n",
              "      <td>2376</td>\n",
              "      <td>2376</td>\n",
              "      <td>2376</td>\n",
              "      <td>2376</td>\n",
              "      <td>2376</td>\n",
              "      <td>2376</td>\n",
              "      <td>2376</td>\n",
              "      <td>2376</td>\n",
              "      <td>2376</td>\n",
              "      <td>2376</td>\n",
              "      <td>2376</td>\n",
              "      <td>2376</td>\n",
              "      <td>2376</td>\n",
              "      <td>2376</td>\n",
              "      <td>2376</td>\n",
              "      <td>2376</td>\n",
              "      <td>2376</td>\n",
              "      <td>2376</td>\n",
              "      <td>2376</td>\n",
              "      <td>2376</td>\n",
              "      <td>2376</td>\n",
              "      <td>2376</td>\n",
              "      <td>2376</td>\n",
              "      <td>2376</td>\n",
              "      <td>2376</td>\n",
              "      <td>2376</td>\n",
              "      <td>2376</td>\n",
              "      <td>2376</td>\n",
              "      <td>2376</td>\n",
              "      <td>2376</td>\n",
              "      <td>2376</td>\n",
              "      <td>2376</td>\n",
              "      <td>2376</td>\n",
              "      <td>2376</td>\n",
              "      <td>2376</td>\n",
              "      <td>2376</td>\n",
              "    </tr>\n",
              "  </tbody>\n",
              "</table>\n",
              "</div>"
            ],
            "text/plain": [
              "        mfcc_0_mean  mfcc_1_mean  mfcc_2_mean  ...  denergy_std  file  group\n",
              "target                                         ...                          \n",
              "eight          2352         2352         2352  ...         2352  2352   2352\n",
              "five           2357         2357         2357  ...         2357  2357   2357\n",
              "four           2372         2372         2372  ...         2372  2372   2372\n",
              "nine           2364         2364         2364  ...         2364  2364   2364\n",
              "one            2370         2370         2370  ...         2370  2370   2370\n",
              "seven          2377         2377         2377  ...         2377  2377   2377\n",
              "six            2369         2369         2369  ...         2369  2369   2369\n",
              "three          2356         2356         2356  ...         2356  2356   2356\n",
              "two            2373         2373         2373  ...         2373  2373   2373\n",
              "zero           2376         2376         2376  ...         2376  2376   2376\n",
              "\n",
              "[10 rows x 54 columns]"
            ]
          },
          "metadata": {
            "tags": []
          },
          "execution_count": 3
        }
      ]
    },
    {
      "cell_type": "code",
      "metadata": {
        "id": "OkHYlxAmdBpo",
        "colab_type": "code",
        "colab": {
          "base_uri": "https://localhost:8080/",
          "height": 186
        },
        "outputId": "ed2e7203-0e8f-4bcc-83dc-66c71bde5947"
      },
      "source": [
        "df_features.groupby('group').count()"
      ],
      "execution_count": null,
      "outputs": [
        {
          "output_type": "execute_result",
          "data": {
            "text/html": [
              "<div>\n",
              "<style scoped>\n",
              "    .dataframe tbody tr th:only-of-type {\n",
              "        vertical-align: middle;\n",
              "    }\n",
              "\n",
              "    .dataframe tbody tr th {\n",
              "        vertical-align: top;\n",
              "    }\n",
              "\n",
              "    .dataframe thead th {\n",
              "        text-align: right;\n",
              "    }\n",
              "</style>\n",
              "<table border=\"1\" class=\"dataframe\">\n",
              "  <thead>\n",
              "    <tr style=\"text-align: right;\">\n",
              "      <th></th>\n",
              "      <th>mfcc_0_mean</th>\n",
              "      <th>mfcc_1_mean</th>\n",
              "      <th>mfcc_2_mean</th>\n",
              "      <th>mfcc_3_mean</th>\n",
              "      <th>mfcc_4_mean</th>\n",
              "      <th>mfcc_5_mean</th>\n",
              "      <th>mfcc_6_mean</th>\n",
              "      <th>mfcc_7_mean</th>\n",
              "      <th>mfcc_8_mean</th>\n",
              "      <th>mfcc_9_mean</th>\n",
              "      <th>mfcc_10_mean</th>\n",
              "      <th>mfcc_11_mean</th>\n",
              "      <th>energy_mean</th>\n",
              "      <th>mfcc_0_std</th>\n",
              "      <th>mfcc_1_std</th>\n",
              "      <th>mfcc_2_std</th>\n",
              "      <th>mfcc_3_std</th>\n",
              "      <th>mfcc_4_std</th>\n",
              "      <th>mfcc_5_std</th>\n",
              "      <th>mfcc_6_std</th>\n",
              "      <th>mfcc_7_std</th>\n",
              "      <th>mfcc_8_std</th>\n",
              "      <th>mfcc_9_std</th>\n",
              "      <th>mfcc_10_std</th>\n",
              "      <th>mfcc_11_std</th>\n",
              "      <th>energy_std</th>\n",
              "      <th>dmfcc_0_mean</th>\n",
              "      <th>dmfcc_1_mean</th>\n",
              "      <th>dmfcc_2_mean</th>\n",
              "      <th>dmfcc_3_mean</th>\n",
              "      <th>dmfcc_4_mean</th>\n",
              "      <th>dmfcc_5_mean</th>\n",
              "      <th>dmfcc_6_mean</th>\n",
              "      <th>dmfcc_7_mean</th>\n",
              "      <th>dmfcc_8_mean</th>\n",
              "      <th>dmfcc_9_mean</th>\n",
              "      <th>dmfcc_10_mean</th>\n",
              "      <th>dmfcc_11_mean</th>\n",
              "      <th>denergy_mean</th>\n",
              "      <th>dmfcc_0_std</th>\n",
              "      <th>dmfcc_1_std</th>\n",
              "      <th>dmfcc_2_std</th>\n",
              "      <th>dmfcc_3_std</th>\n",
              "      <th>dmfcc_4_std</th>\n",
              "      <th>dmfcc_5_std</th>\n",
              "      <th>dmfcc_6_std</th>\n",
              "      <th>dmfcc_7_std</th>\n",
              "      <th>dmfcc_8_std</th>\n",
              "      <th>dmfcc_9_std</th>\n",
              "      <th>dmfcc_10_std</th>\n",
              "      <th>dmfcc_11_std</th>\n",
              "      <th>denergy_std</th>\n",
              "      <th>target</th>\n",
              "      <th>file</th>\n",
              "    </tr>\n",
              "    <tr>\n",
              "      <th>group</th>\n",
              "      <th></th>\n",
              "      <th></th>\n",
              "      <th></th>\n",
              "      <th></th>\n",
              "      <th></th>\n",
              "      <th></th>\n",
              "      <th></th>\n",
              "      <th></th>\n",
              "      <th></th>\n",
              "      <th></th>\n",
              "      <th></th>\n",
              "      <th></th>\n",
              "      <th></th>\n",
              "      <th></th>\n",
              "      <th></th>\n",
              "      <th></th>\n",
              "      <th></th>\n",
              "      <th></th>\n",
              "      <th></th>\n",
              "      <th></th>\n",
              "      <th></th>\n",
              "      <th></th>\n",
              "      <th></th>\n",
              "      <th></th>\n",
              "      <th></th>\n",
              "      <th></th>\n",
              "      <th></th>\n",
              "      <th></th>\n",
              "      <th></th>\n",
              "      <th></th>\n",
              "      <th></th>\n",
              "      <th></th>\n",
              "      <th></th>\n",
              "      <th></th>\n",
              "      <th></th>\n",
              "      <th></th>\n",
              "      <th></th>\n",
              "      <th></th>\n",
              "      <th></th>\n",
              "      <th></th>\n",
              "      <th></th>\n",
              "      <th></th>\n",
              "      <th></th>\n",
              "      <th></th>\n",
              "      <th></th>\n",
              "      <th></th>\n",
              "      <th></th>\n",
              "      <th></th>\n",
              "      <th></th>\n",
              "      <th></th>\n",
              "      <th></th>\n",
              "      <th></th>\n",
              "      <th></th>\n",
              "      <th></th>\n",
              "    </tr>\n",
              "  </thead>\n",
              "  <tbody>\n",
              "    <tr>\n",
              "      <th>testing_modif1</th>\n",
              "      <td>2552</td>\n",
              "      <td>2552</td>\n",
              "      <td>2552</td>\n",
              "      <td>2552</td>\n",
              "      <td>2552</td>\n",
              "      <td>2552</td>\n",
              "      <td>2552</td>\n",
              "      <td>2552</td>\n",
              "      <td>2552</td>\n",
              "      <td>2552</td>\n",
              "      <td>2552</td>\n",
              "      <td>2552</td>\n",
              "      <td>2552</td>\n",
              "      <td>2552</td>\n",
              "      <td>2552</td>\n",
              "      <td>2552</td>\n",
              "      <td>2552</td>\n",
              "      <td>2552</td>\n",
              "      <td>2552</td>\n",
              "      <td>2552</td>\n",
              "      <td>2552</td>\n",
              "      <td>2552</td>\n",
              "      <td>2552</td>\n",
              "      <td>2552</td>\n",
              "      <td>2552</td>\n",
              "      <td>2552</td>\n",
              "      <td>2552</td>\n",
              "      <td>2552</td>\n",
              "      <td>2552</td>\n",
              "      <td>2552</td>\n",
              "      <td>2552</td>\n",
              "      <td>2552</td>\n",
              "      <td>2552</td>\n",
              "      <td>2552</td>\n",
              "      <td>2552</td>\n",
              "      <td>2552</td>\n",
              "      <td>2552</td>\n",
              "      <td>2552</td>\n",
              "      <td>2552</td>\n",
              "      <td>2552</td>\n",
              "      <td>2552</td>\n",
              "      <td>2552</td>\n",
              "      <td>2552</td>\n",
              "      <td>2552</td>\n",
              "      <td>2552</td>\n",
              "      <td>2552</td>\n",
              "      <td>2552</td>\n",
              "      <td>2552</td>\n",
              "      <td>2552</td>\n",
              "      <td>2552</td>\n",
              "      <td>2552</td>\n",
              "      <td>2552</td>\n",
              "      <td>2552</td>\n",
              "      <td>2552</td>\n",
              "    </tr>\n",
              "    <tr>\n",
              "      <th>train_modif1</th>\n",
              "      <td>18620</td>\n",
              "      <td>18620</td>\n",
              "      <td>18620</td>\n",
              "      <td>18620</td>\n",
              "      <td>18620</td>\n",
              "      <td>18620</td>\n",
              "      <td>18620</td>\n",
              "      <td>18620</td>\n",
              "      <td>18620</td>\n",
              "      <td>18620</td>\n",
              "      <td>18620</td>\n",
              "      <td>18620</td>\n",
              "      <td>18620</td>\n",
              "      <td>18620</td>\n",
              "      <td>18620</td>\n",
              "      <td>18620</td>\n",
              "      <td>18620</td>\n",
              "      <td>18620</td>\n",
              "      <td>18620</td>\n",
              "      <td>18620</td>\n",
              "      <td>18620</td>\n",
              "      <td>18620</td>\n",
              "      <td>18620</td>\n",
              "      <td>18620</td>\n",
              "      <td>18620</td>\n",
              "      <td>18620</td>\n",
              "      <td>18620</td>\n",
              "      <td>18620</td>\n",
              "      <td>18620</td>\n",
              "      <td>18620</td>\n",
              "      <td>18620</td>\n",
              "      <td>18620</td>\n",
              "      <td>18620</td>\n",
              "      <td>18620</td>\n",
              "      <td>18620</td>\n",
              "      <td>18620</td>\n",
              "      <td>18620</td>\n",
              "      <td>18620</td>\n",
              "      <td>18620</td>\n",
              "      <td>18620</td>\n",
              "      <td>18620</td>\n",
              "      <td>18620</td>\n",
              "      <td>18620</td>\n",
              "      <td>18620</td>\n",
              "      <td>18620</td>\n",
              "      <td>18620</td>\n",
              "      <td>18620</td>\n",
              "      <td>18620</td>\n",
              "      <td>18620</td>\n",
              "      <td>18620</td>\n",
              "      <td>18620</td>\n",
              "      <td>18620</td>\n",
              "      <td>18620</td>\n",
              "      <td>18620</td>\n",
              "    </tr>\n",
              "    <tr>\n",
              "      <th>validation_modif1</th>\n",
              "      <td>2494</td>\n",
              "      <td>2494</td>\n",
              "      <td>2494</td>\n",
              "      <td>2494</td>\n",
              "      <td>2494</td>\n",
              "      <td>2494</td>\n",
              "      <td>2494</td>\n",
              "      <td>2494</td>\n",
              "      <td>2494</td>\n",
              "      <td>2494</td>\n",
              "      <td>2494</td>\n",
              "      <td>2494</td>\n",
              "      <td>2494</td>\n",
              "      <td>2494</td>\n",
              "      <td>2494</td>\n",
              "      <td>2494</td>\n",
              "      <td>2494</td>\n",
              "      <td>2494</td>\n",
              "      <td>2494</td>\n",
              "      <td>2494</td>\n",
              "      <td>2494</td>\n",
              "      <td>2494</td>\n",
              "      <td>2494</td>\n",
              "      <td>2494</td>\n",
              "      <td>2494</td>\n",
              "      <td>2494</td>\n",
              "      <td>2494</td>\n",
              "      <td>2494</td>\n",
              "      <td>2494</td>\n",
              "      <td>2494</td>\n",
              "      <td>2494</td>\n",
              "      <td>2494</td>\n",
              "      <td>2494</td>\n",
              "      <td>2494</td>\n",
              "      <td>2494</td>\n",
              "      <td>2494</td>\n",
              "      <td>2494</td>\n",
              "      <td>2494</td>\n",
              "      <td>2494</td>\n",
              "      <td>2494</td>\n",
              "      <td>2494</td>\n",
              "      <td>2494</td>\n",
              "      <td>2494</td>\n",
              "      <td>2494</td>\n",
              "      <td>2494</td>\n",
              "      <td>2494</td>\n",
              "      <td>2494</td>\n",
              "      <td>2494</td>\n",
              "      <td>2494</td>\n",
              "      <td>2494</td>\n",
              "      <td>2494</td>\n",
              "      <td>2494</td>\n",
              "      <td>2494</td>\n",
              "      <td>2494</td>\n",
              "    </tr>\n",
              "  </tbody>\n",
              "</table>\n",
              "</div>"
            ],
            "text/plain": [
              "                   mfcc_0_mean  mfcc_1_mean  ...  target   file\n",
              "group                                        ...               \n",
              "testing_modif1            2552         2552  ...    2552   2552\n",
              "train_modif1             18620        18620  ...   18620  18620\n",
              "validation_modif1         2494         2494  ...    2494   2494\n",
              "\n",
              "[3 rows x 54 columns]"
            ]
          },
          "metadata": {
            "tags": []
          },
          "execution_count": 4
        }
      ]
    },
    {
      "cell_type": "markdown",
      "metadata": {
        "id": "qXHuQDCndLFy",
        "colab_type": "text"
      },
      "source": [
        "# Modelos"
      ]
    },
    {
      "cell_type": "markdown",
      "metadata": {
        "id": "Bbtxn8JY2Yqs",
        "colab_type": "text"
      },
      "source": [
        "Definimos los conjuntos de train  y validation"
      ]
    },
    {
      "cell_type": "code",
      "metadata": {
        "id": "FTPWaXLKdOUP",
        "colab_type": "code",
        "colab": {
          "base_uri": "https://localhost:8080/",
          "height": 34
        },
        "outputId": "31684e57-c819-48bb-ed0f-a2e1befe4132"
      },
      "source": [
        "df_train = df_features[df_features['group'] == 'train_modif1'] # me quedo solamente con los que son de Train\n",
        "\n",
        "del df_train['group']\n",
        "del df_train['file']\n",
        "len(df_train.index)"
      ],
      "execution_count": null,
      "outputs": [
        {
          "output_type": "execute_result",
          "data": {
            "text/plain": [
              "18620"
            ]
          },
          "metadata": {
            "tags": []
          },
          "execution_count": 5
        }
      ]
    },
    {
      "cell_type": "code",
      "metadata": {
        "id": "jvhuE41zv3Dl",
        "colab_type": "code",
        "colab": {}
      },
      "source": [
        "features = df_train.loc[:, df_train.columns != 'target'].columns\n",
        "target = 'target'\n",
        "\n",
        "x_train, y_train = df_train[features].values, df_train[target].values"
      ],
      "execution_count": null,
      "outputs": []
    },
    {
      "cell_type": "code",
      "metadata": {
        "id": "hobOf0v7DdLm",
        "colab_type": "code",
        "colab": {
          "base_uri": "https://localhost:8080/",
          "height": 34
        },
        "outputId": "372a9949-cedc-4d34-ed7e-63afe4afa286"
      },
      "source": [
        "# Validation Set\n",
        "df_validation = df_features[df_features['group'] == 'validation_modif1']\n",
        "\n",
        "del df_validation['group']\n",
        "del df_validation['file']\n",
        "len(df_validation.index)"
      ],
      "execution_count": null,
      "outputs": [
        {
          "output_type": "execute_result",
          "data": {
            "text/plain": [
              "2494"
            ]
          },
          "metadata": {
            "tags": []
          },
          "execution_count": 7
        }
      ]
    },
    {
      "cell_type": "code",
      "metadata": {
        "id": "UpVnHmXmDlB2",
        "colab_type": "code",
        "colab": {}
      },
      "source": [
        "x_validation, y_validation = df_validation[features].values, df_validation[target].values"
      ],
      "execution_count": null,
      "outputs": []
    },
    {
      "cell_type": "code",
      "metadata": {
        "id": "xawOAojEJjhF",
        "colab_type": "code",
        "colab": {
          "base_uri": "https://localhost:8080/",
          "height": 252
        },
        "outputId": "c7e4d342-4590-4b4d-aa13-1afe4ef64e34"
      },
      "source": [
        "features\n",
        "# ahora son bastante menos"
      ],
      "execution_count": null,
      "outputs": [
        {
          "output_type": "execute_result",
          "data": {
            "text/plain": [
              "Index(['mfcc_0_mean', 'mfcc_1_mean', 'mfcc_2_mean', 'mfcc_3_mean',\n",
              "       'mfcc_4_mean', 'mfcc_5_mean', 'mfcc_6_mean', 'mfcc_7_mean',\n",
              "       'mfcc_8_mean', 'mfcc_9_mean', 'mfcc_10_mean', 'mfcc_11_mean',\n",
              "       'energy_mean', 'mfcc_0_std', 'mfcc_1_std', 'mfcc_2_std', 'mfcc_3_std',\n",
              "       'mfcc_4_std', 'mfcc_5_std', 'mfcc_6_std', 'mfcc_7_std', 'mfcc_8_std',\n",
              "       'mfcc_9_std', 'mfcc_10_std', 'mfcc_11_std', 'energy_std',\n",
              "       'dmfcc_0_mean', 'dmfcc_1_mean', 'dmfcc_2_mean', 'dmfcc_3_mean',\n",
              "       'dmfcc_4_mean', 'dmfcc_5_mean', 'dmfcc_6_mean', 'dmfcc_7_mean',\n",
              "       'dmfcc_8_mean', 'dmfcc_9_mean', 'dmfcc_10_mean', 'dmfcc_11_mean',\n",
              "       'denergy_mean', 'dmfcc_0_std', 'dmfcc_1_std', 'dmfcc_2_std',\n",
              "       'dmfcc_3_std', 'dmfcc_4_std', 'dmfcc_5_std', 'dmfcc_6_std',\n",
              "       'dmfcc_7_std', 'dmfcc_8_std', 'dmfcc_9_std', 'dmfcc_10_std',\n",
              "       'dmfcc_11_std', 'denergy_std'],\n",
              "      dtype='object')"
            ]
          },
          "metadata": {
            "tags": []
          },
          "execution_count": 9
        }
      ]
    },
    {
      "cell_type": "markdown",
      "metadata": {
        "id": "YBlCmvGdh-HH",
        "colab_type": "text"
      },
      "source": [
        "### Naive Bayes"
      ]
    },
    {
      "cell_type": "code",
      "metadata": {
        "id": "4at3miCVgL-t",
        "colab_type": "code",
        "colab": {
          "base_uri": "https://localhost:8080/",
          "height": 778
        },
        "outputId": "b67d3863-8c71-4b12-8985-1e93c2c2c908"
      },
      "source": [
        "clf_nb_ = GaussianNB()\n",
        "clf_nb_.fit(x_train, y_train)\n",
        "\n",
        "fig, ax = plt.subplots(figsize=(13, 13))\n",
        "plot_confusion_matrix(clf_nb_, x_validation, y_validation, ax = ax,values_format='.0f')\n",
        "plt.title(\"Matriz Confusión Naive Bayes\", size=20)\n",
        "plt.show()\n",
        "\n",
        "print(\"Accuracy Training : {:.3f}\".format(clf_nb_.score(x_train, y_train)))\n",
        "print(\"Accuracy Test: {:.3f}\".format(clf_nb_.score(x_validation, y_validation)))"
      ],
      "execution_count": null,
      "outputs": [
        {
          "output_type": "display_data",
          "data": {
            "image/png": "[encoded data removed]",
            "text/plain": [
              "<Figure size 936x936 with 2 Axes>"
            ]
          },
          "metadata": {
            "tags": [],
            "needs_background": "light"
          }
        },
        {
          "output_type": "stream",
          "text": [
            "Accuracy Training : 0.566\n",
            "Accuracy Test: 0.559\n"
          ],
          "name": "stdout"
        }
      ]
    },
    {
      "cell_type": "markdown",
      "metadata": {
        "id": "FSLRW-FvE1yP",
        "colab_type": "text"
      },
      "source": [
        "El Accuracy de TRAINING da MEJOR\n",
        "EL Accuracy de VALIDATION tambien da mejor..."
      ]
    },
    {
      "cell_type": "code",
      "metadata": {
        "id": "rK4AThgJF0Yo",
        "colab_type": "code",
        "colab": {
          "base_uri": "https://localhost:8080/",
          "height": 166
        },
        "outputId": "48d3cd14-427b-4eb0-84cc-32a21cc24915"
      },
      "source": [
        "y_validation_pred= clf_nb_.predict(x_validation)\n",
        "\n",
        "clf_nb_score=pd.DataFrame.from_dict(classification_report(y_validation,y_validation_pred,output_dict=True))\n",
        "\n",
        "clf_nb_score\n",
        "\n"
      ],
      "execution_count": null,
      "outputs": [
        {
          "output_type": "execute_result",
          "data": {
            "text/html": [
              "<div>\n",
              "<style scoped>\n",
              "    .dataframe tbody tr th:only-of-type {\n",
              "        vertical-align: middle;\n",
              "    }\n",
              "\n",
              "    .dataframe tbody tr th {\n",
              "        vertical-align: top;\n",
              "    }\n",
              "\n",
              "    .dataframe thead th {\n",
              "        text-align: right;\n",
              "    }\n",
              "</style>\n",
              "<table border=\"1\" class=\"dataframe\">\n",
              "  <thead>\n",
              "    <tr style=\"text-align: right;\">\n",
              "      <th></th>\n",
              "      <th>eight</th>\n",
              "      <th>five</th>\n",
              "      <th>four</th>\n",
              "      <th>nine</th>\n",
              "      <th>one</th>\n",
              "      <th>seven</th>\n",
              "      <th>six</th>\n",
              "      <th>three</th>\n",
              "      <th>two</th>\n",
              "      <th>zero</th>\n",
              "      <th>accuracy</th>\n",
              "      <th>macro avg</th>\n",
              "      <th>weighted avg</th>\n",
              "    </tr>\n",
              "  </thead>\n",
              "  <tbody>\n",
              "    <tr>\n",
              "      <th>precision</th>\n",
              "      <td>0.692</td>\n",
              "      <td>0.545</td>\n",
              "      <td>0.743</td>\n",
              "      <td>0.627</td>\n",
              "      <td>0.397</td>\n",
              "      <td>0.626</td>\n",
              "      <td>0.638</td>\n",
              "      <td>0.561</td>\n",
              "      <td>0.383</td>\n",
              "      <td>0.568</td>\n",
              "      <td>0.559</td>\n",
              "      <td>0.578</td>\n",
              "      <td>0.582</td>\n",
              "    </tr>\n",
              "    <tr>\n",
              "      <th>recall</th>\n",
              "      <td>0.630</td>\n",
              "      <td>0.521</td>\n",
              "      <td>0.536</td>\n",
              "      <td>0.461</td>\n",
              "      <td>0.548</td>\n",
              "      <td>0.483</td>\n",
              "      <td>0.618</td>\n",
              "      <td>0.593</td>\n",
              "      <td>0.551</td>\n",
              "      <td>0.646</td>\n",
              "      <td>0.559</td>\n",
              "      <td>0.559</td>\n",
              "      <td>0.559</td>\n",
              "    </tr>\n",
              "    <tr>\n",
              "      <th>f1-score</th>\n",
              "      <td>0.659</td>\n",
              "      <td>0.533</td>\n",
              "      <td>0.622</td>\n",
              "      <td>0.531</td>\n",
              "      <td>0.461</td>\n",
              "      <td>0.545</td>\n",
              "      <td>0.628</td>\n",
              "      <td>0.576</td>\n",
              "      <td>0.452</td>\n",
              "      <td>0.604</td>\n",
              "      <td>0.559</td>\n",
              "      <td>0.561</td>\n",
              "      <td>0.564</td>\n",
              "    </tr>\n",
              "    <tr>\n",
              "      <th>support</th>\n",
              "      <td>243.000</td>\n",
              "      <td>242.000</td>\n",
              "      <td>280.000</td>\n",
              "      <td>230.000</td>\n",
              "      <td>230.000</td>\n",
              "      <td>263.000</td>\n",
              "      <td>262.000</td>\n",
              "      <td>248.000</td>\n",
              "      <td>236.000</td>\n",
              "      <td>260.000</td>\n",
              "      <td>0.559</td>\n",
              "      <td>2494.000</td>\n",
              "      <td>2494.000</td>\n",
              "    </tr>\n",
              "  </tbody>\n",
              "</table>\n",
              "</div>"
            ],
            "text/plain": [
              "            eight    five    four  ...  accuracy  macro avg  weighted avg\n",
              "precision   0.692   0.545   0.743  ...     0.559      0.578         0.582\n",
              "recall      0.630   0.521   0.536  ...     0.559      0.559         0.559\n",
              "f1-score    0.659   0.533   0.622  ...     0.559      0.561         0.564\n",
              "support   243.000 242.000 280.000  ...     0.559   2494.000      2494.000\n",
              "\n",
              "[4 rows x 13 columns]"
            ]
          },
          "metadata": {
            "tags": []
          },
          "execution_count": 12
        }
      ]
    },
    {
      "cell_type": "markdown",
      "metadata": {
        "id": "n42PAAvn-Lbj",
        "colab_type": "text"
      },
      "source": [
        "### Bagging Parameters\n",
        "\n",
        "\n",
        "*   n_estimators\n",
        "*   max_features\n",
        "*   oob_score\n",
        "\n",
        "### Tree-specific Parameters\n",
        "\n",
        "\n",
        "*   max_depth\n",
        "*   min_samples_split\n",
        "*   min_samples_leaf\n",
        "*   class_weight (balanced)\n",
        "\n"
      ]
    },
    {
      "cell_type": "markdown",
      "metadata": {
        "id": "w9TTy-QWlr9Q",
        "colab_type": "text"
      },
      "source": [
        "### Random Forest"
      ]
    },
    {
      "cell_type": "code",
      "metadata": {
        "id": "HSx8cA4sldFE",
        "colab_type": "code",
        "colab": {
          "base_uri": "https://localhost:8080/",
          "height": 882
        },
        "outputId": "9d5c01ad-80bb-491f-8989-08c61b9d5f8a"
      },
      "source": [
        "parameters = {'n_estimators':[50,100,150], \n",
        "              'criterion' :['gini', 'entropy'],\n",
        "              'max_depth':range(5,11,1), \n",
        "              'bootstrap':[True, False], \n",
        "              'max_features': [6, 8, 10]}\n",
        "\n",
        "clf_rf_ = RandomizedSearchCV(RandomForestClassifier(), parameters, n_jobs=-1, n_iter=15, scoring='accuracy',verbose=2, cv=None)\n",
        "clf_rf_.fit(x_train, y_train)\n",
        "\n",
        "clf_rf_be_ = clf_rf_.best_estimator_\n",
        "fig, ax = plt.subplots(figsize=(13, 13))\n",
        "plot_confusion_matrix(clf_rf_be_, x_validation, y_validation, ax = ax,values_format='.0f')\n",
        "plt.title(\"Matriz Confusión Random Forest\", size=20)\n",
        "plt.show()\n",
        "\n",
        "\n",
        "print(\"Accuracy training : {:.3f}\".format(clf_rf_be_.score(x_train, y_train)))\n",
        "print(\"Accuracy Validation: {:.3f}\".format(clf_rf_be_.score(x_validation, y_validation)))\n",
        "print(\"Best Random Forest Score {0:.3f} with params {1}\".format(clf_rf_.best_score_, clf_rf_.best_params_))"
      ],
      "execution_count": null,
      "outputs": [
        {
          "output_type": "stream",
          "text": [
            "Fitting 5 folds for each of 15 candidates, totalling 75 fits\n"
          ],
          "name": "stdout"
        },
        {
          "output_type": "stream",
          "text": [
            "[Parallel(n_jobs=-1)]: Using backend LokyBackend with 2 concurrent workers.\n",
            "[Parallel(n_jobs=-1)]: Done  37 tasks      | elapsed: 11.9min\n",
            "[Parallel(n_jobs=-1)]: Done  75 out of  75 | elapsed: 24.2min finished\n"
          ],
          "name": "stderr"
        },
        {
          "output_type": "display_data",
          "data": {
            "image/png": "[encoded data removed]",
            "text/plain": [
              "<Figure size 936x936 with 2 Axes>"
            ]
          },
          "metadata": {
            "tags": [],
            "needs_background": "light"
          }
        },
        {
          "output_type": "stream",
          "text": [
            "Accuracy training : 0.894\n",
            "Accuracy Validation: 0.643\n",
            "Best Random Forest Score 0.668 with params {'n_estimators': 100, 'max_features': 10, 'max_depth': 10, 'criterion': 'entropy', 'bootstrap': False}\n"
          ],
          "name": "stdout"
        }
      ]
    },
    {
      "cell_type": "markdown",
      "metadata": {
        "id": "LhmxIRh1MEOW",
        "colab_type": "text"
      },
      "source": [
        "El accuracy en TRAINING  es Mejor\n",
        "El Accuracy en Validation es igual"
      ]
    },
    {
      "cell_type": "code",
      "metadata": {
        "id": "JgJMOi3oW9_1",
        "colab_type": "code",
        "colab": {
          "base_uri": "https://localhost:8080/",
          "height": 302
        },
        "outputId": "62e3cb49-e950-4531-9480-46cdae2774c1"
      },
      "source": [
        "# medidas de performance \n",
        "y_validation_pred= clf_rf_.predict(x_validation)\n",
        "\n",
        "print(classification_report(y_validation,y_validation_pred))\n",
        "\n",
        "clf_rf_score=pd.DataFrame.from_dict(classification_report(y_validation,y_validation_pred,output_dict=True))\n"
      ],
      "execution_count": null,
      "outputs": [
        {
          "output_type": "stream",
          "text": [
            "              precision    recall  f1-score   support\n",
            "\n",
            "       eight       0.74      0.77      0.76       243\n",
            "        five       0.65      0.53      0.58       242\n",
            "        four       0.64      0.74      0.69       280\n",
            "        nine       0.60      0.61      0.61       230\n",
            "         one       0.51      0.53      0.52       230\n",
            "       seven       0.70      0.58      0.63       263\n",
            "         six       0.77      0.74      0.75       262\n",
            "       three       0.58      0.64      0.61       248\n",
            "         two       0.60      0.51      0.55       236\n",
            "        zero       0.64      0.74      0.69       260\n",
            "\n",
            "    accuracy                           0.64      2494\n",
            "   macro avg       0.64      0.64      0.64      2494\n",
            "weighted avg       0.65      0.64      0.64      2494\n",
            "\n"
          ],
          "name": "stdout"
        }
      ]
    },
    {
      "cell_type": "markdown",
      "metadata": {
        "id": "7ns38xkgnChI",
        "colab_type": "text"
      },
      "source": [
        "### Gradient Boosting "
      ]
    },
    {
      "cell_type": "markdown",
      "metadata": {
        "id": "9ziMMYBvtCTG",
        "colab_type": "text"
      },
      "source": [
        "1.   Initial Model (weak estimator)\n",
        "2.   New Model fits to residuals\n",
        "3.   New additive model\n",
        "4.   Repeat n times or until error is small enough\n",
        "5.   Final additive model\n",
        "\n",
        "A diferencia de los modelos por Votación, en Gradient Boosting los estimadores no se combinan mediante votación o promedios, sino por suma. Se debe a que el primer modelo se ajusta a la variable objetivo y el resto son estimaciones de los errores residuales.\n",
        "\n",
        "Parámetros:\n",
        "*   n_estimators\n",
        "*   learning_rate\n",
        "*   max_depth\n",
        "*   min_samples_split\n",
        "*   min_samples_leaf\n",
        "*   max_features\n",
        "\n",
        "En Gradient Boosting se recomiendan utilizar todos los parámetros."
      ]
    },
    {
      "cell_type": "code",
      "metadata": {
        "id": "2E3-XmYVmjS8",
        "colab_type": "code",
        "colab": {
          "base_uri": "https://localhost:8080/",
          "height": 862
        },
        "outputId": "9d1a3a48-66c2-4b27-dc97-31ba0e68cc12"
      },
      "source": [
        "parameters = {\n",
        "    \"learning_rate\": np.linspace(0,0.1, num=10),\n",
        "    \"max_depth\": range(3,9,1),\n",
        "    'max_features': [6, 8, 10],\n",
        "    \"n_estimators\": [10]\n",
        "    }                 \n",
        "clf_gb_ = RandomizedSearchCV(GradientBoostingClassifier(), parameters, n_jobs=-1, scoring='accuracy',verbose=2,cv=None)\n",
        "clf_gb_.fit(x_train, y_train)\n",
        "\n",
        "clf_gb_be_ = clf_gb_.best_estimator_\n",
        "fig, ax = plt.subplots(figsize=(13, 13))\n",
        "plot_confusion_matrix(clf_gb_, x_validation, y_validation, ax = ax,values_format='.0f')\n",
        "plt.title(\"Matriz Confusión Gradient Boosting\", size=20)\n",
        "plt.show()\n",
        "\n",
        "print(\"Accuracy training : {:.3f}\".format(clf_gb_.score(x_train, y_train)))\n",
        "print(\"Accuracy Validation: {:.3f}\".format(clf_gb_.score(x_validation, y_validation)))\n",
        "print(\"Best Gradient Boosting Score {0:.3f} with params {1}\".format(clf_gb_.best_score_, clf_gb_.best_params_))"
      ],
      "execution_count": null,
      "outputs": [
        {
          "output_type": "stream",
          "text": [
            "Fitting 5 folds for each of 10 candidates, totalling 50 fits\n"
          ],
          "name": "stdout"
        },
        {
          "output_type": "stream",
          "text": [
            "[Parallel(n_jobs=-1)]: Using backend LokyBackend with 2 concurrent workers.\n",
            "[Parallel(n_jobs=-1)]: Done  37 tasks      | elapsed:  4.2min\n",
            "[Parallel(n_jobs=-1)]: Done  50 out of  50 | elapsed:  4.9min finished\n"
          ],
          "name": "stderr"
        },
        {
          "output_type": "display_data",
          "data": {
            "image/png": "[encoded data removed]",
            "text/plain": [
              "<Figure size 936x936 with 2 Axes>"
            ]
          },
          "metadata": {
            "tags": [],
            "needs_background": "light"
          }
        },
        {
          "output_type": "stream",
          "text": [
            "Accuracy training : 0.910\n",
            "Accuracy Validation: 0.635\n",
            "Best Gradient Boosting Score 0.650 with params {'n_estimators': 10, 'max_features': 10, 'max_depth': 8, 'learning_rate': 0.07777777777777778}\n"
          ],
          "name": "stdout"
        }
      ]
    },
    {
      "cell_type": "markdown",
      "metadata": {
        "id": "qqdaWl2wUaDb",
        "colab_type": "text"
      },
      "source": [
        "Da muy muy parecido al original"
      ]
    },
    {
      "cell_type": "code",
      "metadata": {
        "id": "JBYFLTPRbvkA",
        "colab_type": "code",
        "colab": {
          "base_uri": "https://localhost:8080/",
          "height": 302
        },
        "outputId": "cec18b32-4bec-4eb8-a304-cc9c0d6522ab"
      },
      "source": [
        "# medidas de performance \n",
        "from sklearn.metrics import classification_report\n",
        "y_validation_pred= clf_gb_.predict(x_validation)\n",
        "\n",
        "print(classification_report(y_validation,y_validation_pred))\n",
        "clf_gb_score=pd.DataFrame.from_dict(classification_report(y_validation,y_validation_pred,output_dict=True))"
      ],
      "execution_count": null,
      "outputs": [
        {
          "output_type": "stream",
          "text": [
            "              precision    recall  f1-score   support\n",
            "\n",
            "       eight       0.76      0.73      0.74       243\n",
            "        five       0.65      0.57      0.61       242\n",
            "        four       0.71      0.71      0.71       280\n",
            "        nine       0.59      0.57      0.58       230\n",
            "         one       0.50      0.57      0.53       230\n",
            "       seven       0.65      0.63      0.64       263\n",
            "         six       0.80      0.67      0.73       262\n",
            "       three       0.56      0.64      0.60       248\n",
            "         two       0.49      0.53      0.51       236\n",
            "        zero       0.67      0.70      0.69       260\n",
            "\n",
            "    accuracy                           0.63      2494\n",
            "   macro avg       0.64      0.63      0.63      2494\n",
            "weighted avg       0.64      0.63      0.64      2494\n",
            "\n"
          ],
          "name": "stdout"
        }
      ]
    },
    {
      "cell_type": "markdown",
      "metadata": {
        "id": "I4YysmKSnFUW",
        "colab_type": "text"
      },
      "source": [
        "[texto del enlace](https://)### Multilayer Perceptron"
      ]
    },
    {
      "cell_type": "code",
      "metadata": {
        "id": "hmxOlTwVnKOT",
        "colab_type": "code",
        "colab": {
          "base_uri": "https://localhost:8080/",
          "height": 915
        },
        "outputId": "49fd5a70-d84f-48e0-bc08-588c11b7896c"
      },
      "source": [
        "parameter_space = {\n",
        "    'hidden_layer_sizes': [(50,50,50), (50,100,50), (100,)],\n",
        "    'solver': ['sgd', 'adam'],\n",
        "    'alpha': [0.0001, 0.05],\n",
        "    'learning_rate': ['constant', 'adaptive']\n",
        "}\n",
        "\n",
        "clf_mlp_ = RandomizedSearchCV(MLPClassifier(max_iter=100), parameter_space, n_jobs=-1, scoring='accuracy', verbose=2, cv=None)\n",
        "clf_mlp_.fit(x_train, y_train)\n",
        "\n",
        "clf_mlp_be_ = clf_mlp_.best_estimator_\n",
        "\n",
        "fig, ax = plt.subplots(figsize=(13, 13))\n",
        "plot_confusion_matrix(clf_mlp_, x_validation, y_validation, ax = ax,values_format='.0f')\n",
        "plt.title(\"Matriz Confusión Perceptrón Multicapa\", size=20)\n",
        "plt.show()\n",
        "\n",
        "print(\"Accuracy training : {:.3f}\".format(clf_mlp_.score(x_train, y_train)))\n",
        "print(\"Accuracy Validation: {:.3f}\".format(clf_mlp_.score(x_validation, y_validation)))\n",
        "print(\"Best Multilayer Perceptron Score {0:.3f} with params {1}\".format(clf_mlp_.best_score_, clf_mlp_.best_params_))"
      ],
      "execution_count": null,
      "outputs": [
        {
          "output_type": "stream",
          "text": [
            "Fitting 5 folds for each of 10 candidates, totalling 50 fits\n"
          ],
          "name": "stdout"
        },
        {
          "output_type": "stream",
          "text": [
            "[Parallel(n_jobs=-1)]: Using backend LokyBackend with 2 concurrent workers.\n",
            "[Parallel(n_jobs=-1)]: Done  37 tasks      | elapsed:  5.4min\n",
            "[Parallel(n_jobs=-1)]: Done  50 out of  50 | elapsed:  7.2min finished\n",
            "/usr/local/lib/python3.6/dist-packages/sklearn/neural_network/_multilayer_perceptron.py:571: ConvergenceWarning: Stochastic Optimizer: Maximum iterations (100) reached and the optimization hasn't converged yet.\n",
            "  % self.max_iter, ConvergenceWarning)\n"
          ],
          "name": "stderr"
        },
        {
          "output_type": "display_data",
          "data": {
            "image/png": "[encoded data removed]",
            "text/plain": [
              "<Figure size 936x936 with 2 Axes>"
            ]
          },
          "metadata": {
            "tags": [],
            "needs_background": "light"
          }
        },
        {
          "output_type": "stream",
          "text": [
            "Accuracy training : 0.804\n",
            "Accuracy Validation: 0.705\n",
            "Best Multilayer Perceptron Score 0.745 with params {'solver': 'adam', 'learning_rate': 'adaptive', 'hidden_layer_sizes': (50, 100, 50), 'alpha': 0.05}\n"
          ],
          "name": "stdout"
        }
      ]
    },
    {
      "cell_type": "markdown",
      "metadata": {
        "id": "uCOIVaRJYhPQ",
        "colab_type": "text"
      },
      "source": [
        "Aca dio ligeramente peor"
      ]
    },
    {
      "cell_type": "code",
      "metadata": {
        "id": "_NVFDQPYb0XY",
        "colab_type": "code",
        "colab": {
          "base_uri": "https://localhost:8080/",
          "height": 302
        },
        "outputId": "4eedd79d-6a16-4041-df01-9c58043bea95"
      },
      "source": [
        "# medidas de performance \n",
        "y_validation_pred= clf_mlp_.predict(x_validation)\n",
        "\n",
        "print(classification_report(y_validation,y_validation_pred))\n",
        "clf_mlp_score=pd.DataFrame.from_dict(classification_report(y_validation,y_validation_pred,output_dict=True))\n"
      ],
      "execution_count": null,
      "outputs": [
        {
          "output_type": "stream",
          "text": [
            "              precision    recall  f1-score   support\n",
            "\n",
            "       eight       0.88      0.75      0.81       243\n",
            "        five       0.66      0.75      0.70       242\n",
            "        four       0.73      0.77      0.75       280\n",
            "        nine       0.64      0.74      0.69       230\n",
            "         one       0.71      0.47      0.57       230\n",
            "       seven       0.82      0.60      0.70       263\n",
            "         six       0.72      0.85      0.78       262\n",
            "       three       0.61      0.72      0.66       248\n",
            "         two       0.60      0.57      0.59       236\n",
            "        zero       0.73      0.78      0.76       260\n",
            "\n",
            "    accuracy                           0.70      2494\n",
            "   macro avg       0.71      0.70      0.70      2494\n",
            "weighted avg       0.71      0.70      0.70      2494\n",
            "\n"
          ],
          "name": "stdout"
        }
      ]
    },
    {
      "cell_type": "markdown",
      "metadata": {
        "id": "LyjLFikd6_zy",
        "colab_type": "text"
      },
      "source": [
        "# Comparación performance"
      ]
    },
    {
      "cell_type": "code",
      "metadata": {
        "id": "ZqAbQGmZWZEO",
        "colab_type": "code",
        "colab": {
          "base_uri": "https://localhost:8080/",
          "height": 513
        },
        "outputId": "ab9e8fa0-fe7b-49be-cbca-6309373eb70b"
      },
      "source": [
        "import matplotlib.pyplot as plt\n",
        "nb_ =clf_nb_score.loc['f1-score'][0:10]\n",
        "rf_ =clf_rf_score.loc['f1-score'][0:10]\n",
        "gb_ =clf_gb_score.loc['f1-score'][0:10]\n",
        "mlp_ =clf_mlp_score.loc['f1-score'][0:10]\n",
        "\n",
        "fig, ax = plt.subplots(figsize=(10, 8))\n",
        "line_chart1 = plt.plot(nb_)\n",
        "line_chart2 = plt.plot(rf_)\n",
        "line_chart3 = plt.plot(gb_)\n",
        "line_chart4 = plt.plot(mlp_)\n",
        "plt.title('Comparacion F1 Score por clase')\n",
        "plt.ylabel('F1 score')\n",
        "plt.xlabel('Clase')\n",
        "plt.legend(['Naive Bayes', 'Random Forest','Gradient Boosting','Multilayer Perceptron'], loc=1)\n",
        "plt.show()"
      ],
      "execution_count": null,
      "outputs": [
        {
          "output_type": "display_data",
          "data": {
            "image/png": "[encoded data removed]",
            "text/plain": [
              "<Figure size 720x576 with 1 Axes>"
            ]
          },
          "metadata": {
            "tags": [],
            "needs_background": "light"
          }
        }
      ]
    },
    {
      "cell_type": "code",
      "metadata": {
        "id": "Wn9yypBp7Joe",
        "colab_type": "code",
        "colab": {
          "base_uri": "https://localhost:8080/",
          "height": 539
        },
        "outputId": "4c5838fd-f5ad-453b-abb6-c26618cc984d"
      },
      "source": [
        "dict_performance_ = {'Modelo': ['Naive Bayes', 'Random Forest', 'Gradient Boosting', 'Perceptrón Multicapa'], \n",
        "     'Train': [clf_nb_.score(x_train, y_train), \n",
        "               clf_rf_be_.score(x_train, y_train),\n",
        "               clf_gb_.score(x_train, y_train),\n",
        "               clf_mlp_.score(x_train, y_train)\n",
        "               ], \n",
        "     'Validation':  [clf_nb_.score(x_validation, y_validation),\n",
        "               clf_rf_be_.score(x_validation, y_validation),\n",
        "               clf_gb_.score(x_validation, y_validation),\n",
        "               clf_mlp_.score(x_validation, y_validation)\n",
        "               ]}\n",
        "df_performance_ = pd.DataFrame(data=dict_performance_)\n",
        "\n",
        "plt.figure(figsize=(10, 8))\n",
        "sns.barplot(x=\"Modelo\", y=\"value\", hue=\"variable\", data=pd.melt(df_performance_, id_vars=['Modelo']), palette=\"Blues\")\n",
        "plt.ylabel(\"Accuracy\", size=14)\n",
        "plt.xlabel(\"Modelos\", size=14)\n",
        "plt.title(\"Comparación Modelos: Train&Validation Performance\", size=18)"
      ],
      "execution_count": null,
      "outputs": [
        {
          "output_type": "execute_result",
          "data": {
            "text/plain": [
              "Text(0.5, 1.0, 'Comparación Modelos: Train&Validation Performance')"
            ]
          },
          "metadata": {
            "tags": []
          },
          "execution_count": 20
        },
        {
          "output_type": "display_data",
          "data": {
            "image/png": "[encoded data removed]",
            "text/plain": [
              "<Figure size 720x576 with 1 Axes>"
            ]
          },
          "metadata": {
            "tags": [],
            "needs_background": "light"
          }
        }
      ]
    },
    {
      "cell_type": "markdown",
      "metadata": {
        "id": "Bi49hBRB0z6a",
        "colab_type": "text"
      },
      "source": [
        "# Modelos en Test Ruidosos"
      ]
    },
    {
      "cell_type": "code",
      "metadata": {
        "id": "JvPEA6su02Bh",
        "colab_type": "code",
        "colab": {
          "base_uri": "https://localhost:8080/",
          "height": 50
        },
        "outputId": "1f24c5ab-b6a4-440a-addb-bdcaf1650fe7"
      },
      "source": [
        "# Levanto Archivos de Testing con Ruidos\n",
        "github_Link_ = 'https://github.com/newgabo/TP2-AA/blob/master/feat_numbers_ruido_gya.p?raw=true'\n",
        "file_ = BytesIO(requests.get(github_Link_).content)\n",
        "df_features_testing_ = pickle.load(file_)\n",
        "\n",
        "\n",
        "print(df_features_testing_.shape)\n",
        "\n",
        "print(df_features.shape)"
      ],
      "execution_count": null,
      "outputs": [
        {
          "output_type": "stream",
          "text": [
            "(5104, 81)\n",
            "(23666, 55)\n"
          ],
          "name": "stdout"
        }
      ]
    },
    {
      "cell_type": "code",
      "metadata": {
        "id": "P_YJygiz7vol",
        "colab_type": "code",
        "colab": {
          "base_uri": "https://localhost:8080/",
          "height": 50
        },
        "outputId": "8013e876-446f-4a1c-b28e-d1a4adaf5b24"
      },
      "source": [
        "# Levanto Archivos de Testing originales\n",
        "github_Link_ = 'https://github.com/newgabo/TP2-AA/blob/master/feat_numbers.p?raw=true'\n",
        "file_ = BytesIO(requests.get(github_Link_).content)\n",
        "df_features_originales_ = pickle.load(file_)\n",
        "\n",
        "\n",
        "print(df_features_originales_.shape) # 81 features\n",
        "\n",
        "print(df_features.shape) # 55 features"
      ],
      "execution_count": null,
      "outputs": [
        {
          "output_type": "stream",
          "text": [
            "(23666, 81)\n",
            "(23666, 55)\n"
          ],
          "name": "stdout"
        }
      ]
    },
    {
      "cell_type": "code",
      "metadata": {
        "id": "sCQOV-mR71Ex",
        "colab_type": "code",
        "colab": {
          "base_uri": "https://localhost:8080/",
          "height": 34
        },
        "outputId": "5b1046e1-b3dc-4038-d711-7b33a51c0ab5"
      },
      "source": [
        "# Levanto Archivos de Testing grabado por nosotros\n",
        "github_Link_ = 'https://github.com/newgabo/TP2-AA/blob/master/feat_sounds_ours.p?raw=true'\n",
        "file_ = BytesIO(requests.get(github_Link_).content)\n",
        "df_features_testing_ours = pickle.load(file_)\n",
        "\n",
        "print(df_features_testing_ours.shape)"
      ],
      "execution_count": null,
      "outputs": [
        {
          "output_type": "stream",
          "text": [
            "(138, 81)\n"
          ],
          "name": "stdout"
        }
      ]
    },
    {
      "cell_type": "code",
      "metadata": {
        "id": "UR6qejyZ0_Ia",
        "colab_type": "code",
        "colab": {}
      },
      "source": [
        "df_testing= df_features[df_features['group'] == 'testing_modif1']\n",
        "df_testing_orig= df_features_originales_[df_features_originales_['group'] == 'testing']\n",
        "df_testing_amb = df_features_testing_[df_features_testing_['group'] == 'testing_ruido_amb']\n",
        "df_testing_gaus = df_features_testing_[df_features_testing_['group'] == 'testing_ruido_gaus']\n",
        "df_testing_ours = df_features_testing_ours[df_features_testing_ours['group'] == 'test_ours_sounds']\n",
        "\n",
        "\n",
        "del df_testing['group']\n",
        "del df_testing['file']\n",
        "del df_testing_orig['group']\n",
        "del df_testing_orig['file']\n",
        "del df_testing_amb['group']\n",
        "del df_testing_amb['file']\n",
        "del df_testing_gaus['group']\n",
        "del df_testing_gaus['file']\n",
        "del df_testing_ours['group']\n",
        "del df_testing_ours['file']\n",
        "\n",
        "\n",
        "features = df_testing.loc[:, df_testing.columns != 'target'].columns\n",
        "target = 'target'\n",
        "\n",
        "x_testing, y_testing = df_testing[features].values, df_testing[target].values\n",
        "x_testing_orig, y_testing_orig = df_testing_orig[features].values, df_testing_orig[target].values\n",
        "x_testing_amb, y_testing_amb = df_testing_amb[features].values, df_testing_amb[target].values\n",
        "x_testing_gaus, y_testing_gaus = df_testing_gaus[features].values, df_testing_gaus[target].values\n",
        "x_testing_ours, y_testing_ours = df_testing_ours[features].values, df_testing_ours[target].values"
      ],
      "execution_count": null,
      "outputs": []
    },
    {
      "cell_type": "markdown",
      "metadata": {
        "id": "5EkHEHE61Pp4",
        "colab_type": "text"
      },
      "source": [
        "Comienzo por probar los mejores modelos con performance en Testing para que corran en Test sin y con ruido respectivamente...\n",
        "\n",
        "Los mejores modelos..\n",
        "\n",
        "clfnb.score(x_train, y_train), clf_rfbe.score(x_train, y_train), clfgb.score(x_train, y_train), clfmlp.score(x_train, y_train)"
      ]
    },
    {
      "cell_type": "code",
      "metadata": {
        "id": "zbMaGQgD1RRB",
        "colab_type": "code",
        "colab": {}
      },
      "source": [
        "modelos_list_ = [('Naive Bayes', clf_nb_), \n",
        "                 ('Random Forest', clf_rf_be_), \n",
        "                 ('Gradient Boosting', clf_gb_), \n",
        "                 ('Multilayer Perceptron', clf_mlp_)]\n",
        "\n",
        "testing_list_ = [(x_testing_orig, y_testing_orig, 'Testing Original'),\n",
        "                    (x_testing_amb, y_testing_amb, 'Validacion c/ruido Gaussiano'), \n",
        "                    (x_testing_gaus, y_testing_gaus, 'Validacion c/ruido Ambiental'),\n",
        "                    (x_testing_ours, y_testing_ours, 'Test audios nuestros'),\n",
        "                    (x_testing, y_testing, 'Testing Original Modificado 1')]\n",
        "                    \n",
        "acc_test = {} # Voy a armar un diccionario\n",
        "for modelo in modelos_list_:\n",
        "  acc_test[modelo[0]] = {}\n",
        "  for test_set in testing_list_:\n",
        "    acc_test[modelo[0]][test_set[2]] = round(modelo[1].score(test_set[0], test_set[1]) * 100, 2)"
      ],
      "execution_count": null,
      "outputs": []
    },
    {
      "cell_type": "code",
      "metadata": {
        "id": "Cs39BMlu1Vxy",
        "colab_type": "code",
        "colab": {
          "base_uri": "https://localhost:8080/",
          "height": 353
        },
        "outputId": "e6fd4b34-08cc-45d5-d794-3b36a9e52ba5"
      },
      "source": [
        "acc_test"
      ],
      "execution_count": null,
      "outputs": [
        {
          "output_type": "execute_result",
          "data": {
            "text/plain": [
              "{'Gradient Boosting': {'Test audios nuestros': 55.8,\n",
              "  'Testing Original': 61.36,\n",
              "  'Testing Original Modificado 1': 61.36,\n",
              "  'Validacion c/ruido Ambiental': 53.33,\n",
              "  'Validacion c/ruido Gaussiano': 51.41},\n",
              " 'Multilayer Perceptron': {'Test audios nuestros': 73.91,\n",
              "  'Testing Original': 70.42,\n",
              "  'Testing Original Modificado 1': 70.42,\n",
              "  'Validacion c/ruido Ambiental': 61.09,\n",
              "  'Validacion c/ruido Gaussiano': 58.31},\n",
              " 'Naive Bayes': {'Test audios nuestros': 45.65,\n",
              "  'Testing Original': 55.45,\n",
              "  'Testing Original Modificado 1': 55.45,\n",
              "  'Validacion c/ruido Ambiental': 46.87,\n",
              "  'Validacion c/ruido Gaussiano': 45.96},\n",
              " 'Random Forest': {'Test audios nuestros': 59.42,\n",
              "  'Testing Original': 62.03,\n",
              "  'Testing Original Modificado 1': 62.03,\n",
              "  'Validacion c/ruido Ambiental': 54.11,\n",
              "  'Validacion c/ruido Gaussiano': 51.49}}"
            ]
          },
          "metadata": {
            "tags": []
          },
          "execution_count": 36
        }
      ]
    },
    {
      "cell_type": "code",
      "metadata": {
        "id": "kbmmeZu-1XsM",
        "colab_type": "code",
        "colab": {
          "base_uri": "https://localhost:8080/",
          "height": 195
        },
        "outputId": "c036ae52-c3ca-4969-c873-d299489b7ffa"
      },
      "source": [
        "df_acc_test_ = pd.DataFrame.from_dict(acc_test)\n",
        "df_acc_test_"
      ],
      "execution_count": null,
      "outputs": [
        {
          "output_type": "execute_result",
          "data": {
            "text/html": [
              "<div>\n",
              "<style scoped>\n",
              "    .dataframe tbody tr th:only-of-type {\n",
              "        vertical-align: middle;\n",
              "    }\n",
              "\n",
              "    .dataframe tbody tr th {\n",
              "        vertical-align: top;\n",
              "    }\n",
              "\n",
              "    .dataframe thead th {\n",
              "        text-align: right;\n",
              "    }\n",
              "</style>\n",
              "<table border=\"1\" class=\"dataframe\">\n",
              "  <thead>\n",
              "    <tr style=\"text-align: right;\">\n",
              "      <th></th>\n",
              "      <th>Naive Bayes</th>\n",
              "      <th>Random Forest</th>\n",
              "      <th>Gradient Boosting</th>\n",
              "      <th>Multilayer Perceptron</th>\n",
              "    </tr>\n",
              "  </thead>\n",
              "  <tbody>\n",
              "    <tr>\n",
              "      <th>Testing Original</th>\n",
              "      <td>55.450</td>\n",
              "      <td>62.030</td>\n",
              "      <td>61.360</td>\n",
              "      <td>70.420</td>\n",
              "    </tr>\n",
              "    <tr>\n",
              "      <th>Validacion c/ruido Gaussiano</th>\n",
              "      <td>45.960</td>\n",
              "      <td>51.490</td>\n",
              "      <td>51.410</td>\n",
              "      <td>58.310</td>\n",
              "    </tr>\n",
              "    <tr>\n",
              "      <th>Validacion c/ruido Ambiental</th>\n",
              "      <td>46.870</td>\n",
              "      <td>54.110</td>\n",
              "      <td>53.330</td>\n",
              "      <td>61.090</td>\n",
              "    </tr>\n",
              "    <tr>\n",
              "      <th>Test audios nuestros</th>\n",
              "      <td>45.650</td>\n",
              "      <td>59.420</td>\n",
              "      <td>55.800</td>\n",
              "      <td>73.910</td>\n",
              "    </tr>\n",
              "    <tr>\n",
              "      <th>Testing Original Modificado 1</th>\n",
              "      <td>55.450</td>\n",
              "      <td>62.030</td>\n",
              "      <td>61.360</td>\n",
              "      <td>70.420</td>\n",
              "    </tr>\n",
              "  </tbody>\n",
              "</table>\n",
              "</div>"
            ],
            "text/plain": [
              "                               Naive Bayes  ...  Multilayer Perceptron\n",
              "Testing Original                    55.450  ...                 70.420\n",
              "Validacion c/ruido Gaussiano        45.960  ...                 58.310\n",
              "Validacion c/ruido Ambiental        46.870  ...                 61.090\n",
              "Test audios nuestros                45.650  ...                 73.910\n",
              "Testing Original Modificado 1       55.450  ...                 70.420\n",
              "\n",
              "[5 rows x 4 columns]"
            ]
          },
          "metadata": {
            "tags": []
          },
          "execution_count": 37
        }
      ]
    },
    {
      "cell_type": "code",
      "metadata": {
        "id": "ZOCi_Iv61dRk",
        "colab_type": "code",
        "colab": {
          "base_uri": "https://localhost:8080/",
          "height": 634
        },
        "outputId": "0e565ccf-891e-43ae-9f7e-fec97220f6e9"
      },
      "source": [
        "#df_acc_test_.T.plot(kind='bar')\n",
        "\n",
        "df_acc_test_.T.plot(kind='bar', legend=True, figsize=(12,8), title='Accuracy by model / testing type', fontsize=12)\n"
      ],
      "execution_count": null,
      "outputs": [
        {
          "output_type": "execute_result",
          "data": {
            "text/plain": [
              "<matplotlib.axes._subplots.AxesSubplot at 0x7f9fe8d4d3c8>"
            ]
          },
          "metadata": {
            "tags": []
          },
          "execution_count": 38
        },
        {
          "output_type": "display_data",
          "data": {
            "image/png": "[encoded data removed]",
            "text/plain": [
              "<Figure size 864x576 with 1 Axes>"
            ]
          },
          "metadata": {
            "tags": [],
            "needs_background": "light"
          }
        }
      ]
    },
    {
      "cell_type": "markdown",
      "metadata": {
        "id": "FBotHfjbN4-0",
        "colab_type": "text"
      },
      "source": [
        "## Matriz de Confusión para Ruidos"
      ]
    },
    {
      "cell_type": "code",
      "metadata": {
        "id": "Jk90rpaKOAAB",
        "colab_type": "code",
        "colab": {
          "base_uri": "https://localhost:8080/",
          "height": 34
        },
        "outputId": "dd66f683-14dc-4a64-8950-ed3ed86f0aff"
      },
      "source": [
        "# Voy a hacer uso de una Matriz de Confusión \"interactiva\"\n",
        "! pip -q install pygal"
      ],
      "execution_count": null,
      "outputs": [
        {
          "output_type": "stream",
          "text": [
            "\u001b[?25l\r\u001b[K     |██▋                             | 10kB 33.4MB/s eta 0:00:01\r\u001b[K     |█████▏                          | 20kB 1.8MB/s eta 0:00:01\r\u001b[K     |███████▊                        | 30kB 2.4MB/s eta 0:00:01\r\u001b[K     |██████████▎                     | 40kB 2.6MB/s eta 0:00:01\r\u001b[K     |████████████▉                   | 51kB 2.0MB/s eta 0:00:01\r\u001b[K     |███████████████▍                | 61kB 2.2MB/s eta 0:00:01\r\u001b[K     |██████████████████              | 71kB 2.5MB/s eta 0:00:01\r\u001b[K     |████████████████████▌           | 81kB 2.8MB/s eta 0:00:01\r\u001b[K     |███████████████████████▏        | 92kB 3.0MB/s eta 0:00:01\r\u001b[K     |█████████████████████████▊      | 102kB 2.9MB/s eta 0:00:01\r\u001b[K     |████████████████████████████▎   | 112kB 2.9MB/s eta 0:00:01\r\u001b[K     |██████████████████████████████▉ | 122kB 2.9MB/s eta 0:00:01\r\u001b[K     |████████████████████████████████| 133kB 2.9MB/s \n",
            "\u001b[?25h"
          ],
          "name": "stdout"
        }
      ]
    },
    {
      "cell_type": "code",
      "metadata": {
        "id": "_wX6rkEyODvP",
        "colab_type": "code",
        "colab": {}
      },
      "source": [
        "import pygal\n",
        "from IPython.display import display, HTML\n",
        "from pygal.style import RedBlueStyle"
      ],
      "execution_count": null,
      "outputs": []
    },
    {
      "cell_type": "code",
      "metadata": {
        "id": "QKzCFSalOJDo",
        "colab_type": "code",
        "colab": {
          "base_uri": "https://localhost:8080/",
          "height": 824
        },
        "outputId": "132d1dd8-633f-4f81-a1aa-7b7241ae19b5"
      },
      "source": [
        "render_html = \"\"\"\n",
        "<!DOCTYPE html>\n",
        "<html>\n",
        "  <head>\n",
        "  <script type=\"text/javascript\" src=\"http://kozea.github.com/pygal.js/javascripts/svg.jquery.js\"></script>\n",
        "  <script type=\"text/javascript\" src=\"https://kozea.github.io/pygal.js/2.0.x/pygal-tooltips.min.js\"\"></script>\n",
        "  </head>\n",
        "  <body>\n",
        "    <figure>\n",
        "      {rendered_chart}\n",
        "    </figure>\n",
        "  </body>\n",
        "</html>\n",
        "\"\"\"\n",
        "\n",
        "def galplot(chart):\n",
        "    rendered_chart = chart.render(is_unicode=True)\n",
        "    plot_html = render_html.format(rendered_chart=rendered_chart)\n",
        "    display(HTML(plot_html))\n",
        "\n",
        "    \n",
        "def plot_cm(y_true, y_pred):\n",
        "    labels = np.unique(y_true)\n",
        "    cm = confusion_matrix(y_true, y_pred, labels=labels)\n",
        "    dot_chart = pygal.Dot(interpolate='cubic', style=RedBlueStyle)\n",
        "    dot_chart.force_uri_protocol = 'http'\n",
        "    dot_chart.title = 'Matriz de Confusión'\n",
        "    dot_chart.x_labels = labels\n",
        "    dot_chart.x_title = \"Predicho\"\n",
        "    dot_chart.y_title = \"Real\"\n",
        "    for i in range(len(labels)):\n",
        "        dot_chart.add(labels[i], cm[i,:])\n",
        "    galplot(dot_chart)\n",
        "    \n",
        "plot_cm(y_testing, clf_mlp_be_.predict(x_testing))\n",
        "\n"
      ],
      "execution_count": null,
      "outputs": [
        {
          "output_type": "display_data",
          "data": {
            "text/html": [
              "\n",
              "<!DOCTYPE html>\n",
              "<html>\n",
              "  <head>\n",
              "  <script type=\"text/javascript\" src=\"http://kozea.github.com/pygal.js/javascripts/svg.jquery.js\"></script>\n",
              "  <script type=\"text/javascript\" src=\"https://kozea.github.io/pygal.js/2.0.x/pygal-tooltips.min.js\"\"></script>\n",
              "  </head>\n",
              "  <body>\n",
              "    <figure>\n",
              "      <?xml version='1.0' encoding='utf-8'?>\n",
              "<svg xmlns:xlink=\"http://www.w3.org/1999/xlink\" xmlns=\"http://www.w3.org/2000/svg\" id=\"chart-4da64026-85cc-48c9-86f9-90fffb6381ae\" class=\"pygal-chart\" viewBox=\"0 0 800 600\"><!--Generated with pygal 2.4.0 (lxml) ©Kozea 2012-2016 on 2020-07-11--><!--http://pygal.org--><!--http://github.com/Kozea/pygal--><defs><style type=\"text/css\">#chart-4da64026-85cc-48c9-86f9-90fffb6381ae{-webkit-user-select:none;-webkit-font-smoothing:antialiased;font-family:Consolas,\"Liberation Mono\",Menlo,Courier,monospace}#chart-4da64026-85cc-48c9-86f9-90fffb6381ae .title{font-family:Consolas,\"Liberation Mono\",Menlo,Courier,monospace;font-size:16px}#chart-4da64026-85cc-48c9-86f9-90fffb6381ae .legends .legend text{font-family:Consolas,\"Liberation Mono\",Menlo,Courier,monospace;font-size:14px}#chart-4da64026-85cc-48c9-86f9-90fffb6381ae .axis text{font-family:Consolas,\"Liberation Mono\",Menlo,Courier,monospace;font-size:10px}#chart-4da64026-85cc-48c9-86f9-90fffb6381ae .axis text.major{font-family:Consolas,\"Liberation Mono\",Menlo,Courier,monospace;font-size:10px}#chart-4da64026-85cc-48c9-86f9-90fffb6381ae .text-overlay text.value{font-family:Consolas,\"Liberation Mono\",Menlo,Courier,monospace;font-size:16px}#chart-4da64026-85cc-48c9-86f9-90fffb6381ae .text-overlay text.label{font-family:Consolas,\"Liberation Mono\",Menlo,Courier,monospace;font-size:10px}#chart-4da64026-85cc-48c9-86f9-90fffb6381ae .tooltip{font-family:Consolas,\"Liberation Mono\",Menlo,Courier,monospace;font-size:14px}#chart-4da64026-85cc-48c9-86f9-90fffb6381ae text.no_data{font-family:Consolas,\"Liberation Mono\",Menlo,Courier,monospace;font-size:64px}\n",
              "#chart-4da64026-85cc-48c9-86f9-90fffb6381ae{background-color:#f9f9fa}#chart-4da64026-85cc-48c9-86f9-90fffb6381ae path,#chart-4da64026-85cc-48c9-86f9-90fffb6381ae line,#chart-4da64026-85cc-48c9-86f9-90fffb6381ae rect,#chart-4da64026-85cc-48c9-86f9-90fffb6381ae circle{-webkit-transition:150ms;-moz-transition:150ms;transition:150ms}#chart-4da64026-85cc-48c9-86f9-90fffb6381ae .graph &gt; .background{fill:#f9f9fa}#chart-4da64026-85cc-48c9-86f9-90fffb6381ae .plot &gt; .background{fill:#ffffff}#chart-4da64026-85cc-48c9-86f9-90fffb6381ae .graph{fill:rgba(0,0,0,0.9)}#chart-4da64026-85cc-48c9-86f9-90fffb6381ae text.no_data{fill:rgba(0,0,0,0.9)}#chart-4da64026-85cc-48c9-86f9-90fffb6381ae .title{fill:rgba(0,0,0,0.9)}#chart-4da64026-85cc-48c9-86f9-90fffb6381ae .legends .legend text{fill:rgba(0,0,0,0.9)}#chart-4da64026-85cc-48c9-86f9-90fffb6381ae .legends .legend:hover text{fill:rgba(0,0,0,0.9)}#chart-4da64026-85cc-48c9-86f9-90fffb6381ae .axis .line{stroke:rgba(0,0,0,0.9)}#chart-4da64026-85cc-48c9-86f9-90fffb6381ae .axis .guide.line{stroke:rgba(0,0,0,0.5)}#chart-4da64026-85cc-48c9-86f9-90fffb6381ae .axis .major.line{stroke:rgba(0,0,0,0.9)}#chart-4da64026-85cc-48c9-86f9-90fffb6381ae .axis text.major{fill:rgba(0,0,0,0.9)}#chart-4da64026-85cc-48c9-86f9-90fffb6381ae .axis.y .guides:hover .guide.line,#chart-4da64026-85cc-48c9-86f9-90fffb6381ae .line-graph .axis.x .guides:hover .guide.line,#chart-4da64026-85cc-48c9-86f9-90fffb6381ae .stackedline-graph .axis.x .guides:hover .guide.line,#chart-4da64026-85cc-48c9-86f9-90fffb6381ae .xy-graph .axis.x .guides:hover .guide.line{stroke:rgba(0,0,0,0.9)}#chart-4da64026-85cc-48c9-86f9-90fffb6381ae .axis .guides:hover text{fill:rgba(0,0,0,0.9)}#chart-4da64026-85cc-48c9-86f9-90fffb6381ae .reactive{fill-opacity:.6;stroke-opacity:.8}#chart-4da64026-85cc-48c9-86f9-90fffb6381ae .ci{stroke:rgba(0,0,0,0.9)}#chart-4da64026-85cc-48c9-86f9-90fffb6381ae .reactive.active,#chart-4da64026-85cc-48c9-86f9-90fffb6381ae .active .reactive{fill-opacity:.9;stroke-opacity:.9;stroke-width:4}#chart-4da64026-85cc-48c9-86f9-90fffb6381ae .ci .reactive.active{stroke-width:1.5}#chart-4da64026-85cc-48c9-86f9-90fffb6381ae .series text{fill:rgba(0,0,0,0.9)}#chart-4da64026-85cc-48c9-86f9-90fffb6381ae .tooltip rect{fill:#ffffff;stroke:rgba(0,0,0,0.9);-webkit-transition:opacity 150ms;-moz-transition:opacity 150ms;transition:opacity 150ms}#chart-4da64026-85cc-48c9-86f9-90fffb6381ae .tooltip .label{fill:rgba(0,0,0,0.9)}#chart-4da64026-85cc-48c9-86f9-90fffb6381ae .tooltip .label{fill:rgba(0,0,0,0.9)}#chart-4da64026-85cc-48c9-86f9-90fffb6381ae .tooltip .legend{font-size:.8em;fill:rgba(0,0,0,0.5)}#chart-4da64026-85cc-48c9-86f9-90fffb6381ae .tooltip .x_label{font-size:.6em;fill:rgba(0,0,0,0.9)}#chart-4da64026-85cc-48c9-86f9-90fffb6381ae .tooltip .xlink{font-size:.5em;text-decoration:underline}#chart-4da64026-85cc-48c9-86f9-90fffb6381ae .tooltip .value{font-size:1.5em}#chart-4da64026-85cc-48c9-86f9-90fffb6381ae .bound{font-size:.5em}#chart-4da64026-85cc-48c9-86f9-90fffb6381ae .max-value{font-size:.75em;fill:rgba(0,0,0,0.5)}#chart-4da64026-85cc-48c9-86f9-90fffb6381ae .map-element{fill:#ffffff;stroke:rgba(0,0,0,0.5) !important}#chart-4da64026-85cc-48c9-86f9-90fffb6381ae .map-element .reactive{fill-opacity:inherit;stroke-opacity:inherit}#chart-4da64026-85cc-48c9-86f9-90fffb6381ae .color-0,#chart-4da64026-85cc-48c9-86f9-90fffb6381ae .color-0 a:visited{stroke:#d94e4c;fill:#d94e4c}#chart-4da64026-85cc-48c9-86f9-90fffb6381ae .color-1,#chart-4da64026-85cc-48c9-86f9-90fffb6381ae .color-1 a:visited{stroke:#e5884f;fill:#e5884f}#chart-4da64026-85cc-48c9-86f9-90fffb6381ae .color-2,#chart-4da64026-85cc-48c9-86f9-90fffb6381ae .color-2 a:visited{stroke:#39929a;fill:#39929a}#chart-4da64026-85cc-48c9-86f9-90fffb6381ae .color-3,#chart-4da64026-85cc-48c9-86f9-90fffb6381ae .color-3 a:visited{stroke:#e27876;fill:#e27876}#chart-4da64026-85cc-48c9-86f9-90fffb6381ae .color-4,#chart-4da64026-85cc-48c9-86f9-90fffb6381ae .color-4 a:visited{stroke:#245d62;fill:#245d62}#chart-4da64026-85cc-48c9-86f9-90fffb6381ae .color-5,#chart-4da64026-85cc-48c9-86f9-90fffb6381ae .color-5 a:visited{stroke:#f0bb9b;fill:#f0bb9b}#chart-4da64026-85cc-48c9-86f9-90fffb6381ae .color-6,#chart-4da64026-85cc-48c9-86f9-90fffb6381ae .color-6 a:visited{stroke:#c82d2a;fill:#c82d2a}#chart-4da64026-85cc-48c9-86f9-90fffb6381ae .color-7,#chart-4da64026-85cc-48c9-86f9-90fffb6381ae .color-7 a:visited{stroke:#234547;fill:#234547}#chart-4da64026-85cc-48c9-86f9-90fffb6381ae .color-8,#chart-4da64026-85cc-48c9-86f9-90fffb6381ae .color-8 a:visited{stroke:#671716;fill:#671716}#chart-4da64026-85cc-48c9-86f9-90fffb6381ae .color-9,#chart-4da64026-85cc-48c9-86f9-90fffb6381ae .color-9 a:visited{stroke:#7a3912;fill:#7a3912}#chart-4da64026-85cc-48c9-86f9-90fffb6381ae .text-overlay .color-0 text{fill:black}#chart-4da64026-85cc-48c9-86f9-90fffb6381ae .text-overlay .color-1 text{fill:black}#chart-4da64026-85cc-48c9-86f9-90fffb6381ae .text-overlay .color-2 text{fill:black}#chart-4da64026-85cc-48c9-86f9-90fffb6381ae .text-overlay .color-3 text{fill:black}#chart-4da64026-85cc-48c9-86f9-90fffb6381ae .text-overlay .color-4 text{fill:black}#chart-4da64026-85cc-48c9-86f9-90fffb6381ae .text-overlay .color-5 text{fill:black}#chart-4da64026-85cc-48c9-86f9-90fffb6381ae .text-overlay .color-6 text{fill:black}#chart-4da64026-85cc-48c9-86f9-90fffb6381ae .text-overlay .color-7 text{fill:black}#chart-4da64026-85cc-48c9-86f9-90fffb6381ae .text-overlay .color-8 text{fill:black}#chart-4da64026-85cc-48c9-86f9-90fffb6381ae .text-overlay .color-9 text{fill:black}\n",
              "#chart-4da64026-85cc-48c9-86f9-90fffb6381ae text.no_data{text-anchor:middle}#chart-4da64026-85cc-48c9-86f9-90fffb6381ae .guide.line{fill:none}#chart-4da64026-85cc-48c9-86f9-90fffb6381ae .centered{text-anchor:middle}#chart-4da64026-85cc-48c9-86f9-90fffb6381ae .title{text-anchor:middle}#chart-4da64026-85cc-48c9-86f9-90fffb6381ae .legends .legend text{fill-opacity:1}#chart-4da64026-85cc-48c9-86f9-90fffb6381ae .axis.x text{text-anchor:middle}#chart-4da64026-85cc-48c9-86f9-90fffb6381ae .axis.x:not(.web) text[transform]{text-anchor:start}#chart-4da64026-85cc-48c9-86f9-90fffb6381ae .axis.x:not(.web) text[transform].backwards{text-anchor:end}#chart-4da64026-85cc-48c9-86f9-90fffb6381ae .axis.y text{text-anchor:end}#chart-4da64026-85cc-48c9-86f9-90fffb6381ae .axis.y text[transform].backwards{text-anchor:start}#chart-4da64026-85cc-48c9-86f9-90fffb6381ae .axis.y2 text{text-anchor:start}#chart-4da64026-85cc-48c9-86f9-90fffb6381ae .axis.y2 text[transform].backwards{text-anchor:end}#chart-4da64026-85cc-48c9-86f9-90fffb6381ae .axis .guide.line{stroke-dasharray:4,4}#chart-4da64026-85cc-48c9-86f9-90fffb6381ae .axis .major.guide.line{stroke-dasharray:6,6}#chart-4da64026-85cc-48c9-86f9-90fffb6381ae .horizontal .axis.y .guide.line,#chart-4da64026-85cc-48c9-86f9-90fffb6381ae .horizontal .axis.y2 .guide.line,#chart-4da64026-85cc-48c9-86f9-90fffb6381ae .vertical .axis.x .guide.line{opacity:0}#chart-4da64026-85cc-48c9-86f9-90fffb6381ae .horizontal .axis.always_show .guide.line,#chart-4da64026-85cc-48c9-86f9-90fffb6381ae .vertical .axis.always_show .guide.line{opacity:1 !important}#chart-4da64026-85cc-48c9-86f9-90fffb6381ae .axis.y .guides:hover .guide.line,#chart-4da64026-85cc-48c9-86f9-90fffb6381ae .axis.y2 .guides:hover .guide.line,#chart-4da64026-85cc-48c9-86f9-90fffb6381ae .axis.x .guides:hover .guide.line{opacity:1}#chart-4da64026-85cc-48c9-86f9-90fffb6381ae .axis .guides:hover text{opacity:1}#chart-4da64026-85cc-48c9-86f9-90fffb6381ae .nofill{fill:none}#chart-4da64026-85cc-48c9-86f9-90fffb6381ae .subtle-fill{fill-opacity:.2}#chart-4da64026-85cc-48c9-86f9-90fffb6381ae .dot{stroke-width:1px;fill-opacity:1}#chart-4da64026-85cc-48c9-86f9-90fffb6381ae .dot.active{stroke-width:5px}#chart-4da64026-85cc-48c9-86f9-90fffb6381ae .dot.negative{fill:transparent}#chart-4da64026-85cc-48c9-86f9-90fffb6381ae text,#chart-4da64026-85cc-48c9-86f9-90fffb6381ae tspan{stroke:none !important}#chart-4da64026-85cc-48c9-86f9-90fffb6381ae .series text.active{opacity:1}#chart-4da64026-85cc-48c9-86f9-90fffb6381ae .tooltip rect{fill-opacity:.95;stroke-width:.5}#chart-4da64026-85cc-48c9-86f9-90fffb6381ae .tooltip text{fill-opacity:1}#chart-4da64026-85cc-48c9-86f9-90fffb6381ae .showable{visibility:hidden}#chart-4da64026-85cc-48c9-86f9-90fffb6381ae .showable.shown{visibility:visible}#chart-4da64026-85cc-48c9-86f9-90fffb6381ae .gauge-background{fill:rgba(229,229,229,1);stroke:none}#chart-4da64026-85cc-48c9-86f9-90fffb6381ae .bg-lines{stroke:#f9f9fa;stroke-width:2px}</style><script type=\"text/javascript\">window.pygal = window.pygal || {};window.pygal.config = window.pygal.config || {};window.pygal.config['4da64026-85cc-48c9-86f9-90fffb6381ae'] = {\"allow_interruptions\": false, \"box_mode\": \"extremes\", \"classes\": [\"pygal-chart\"], \"css\": [\"file://style.css\", \"file://graph.css\"], \"defs\": [], \"disable_xml_declaration\": false, \"dots_size\": 2.5, \"dynamic_print_values\": false, \"explicit_size\": false, \"fill\": false, \"force_uri_protocol\": \"http\", \"formatter\": null, \"half_pie\": false, \"height\": 600, \"include_x_axis\": false, \"inner_radius\": 0, \"interpolate\": \"cubic\", \"interpolation_parameters\": {}, \"interpolation_precision\": 250, \"inverse_y_axis\": false, \"js\": [\"//kozea.github.io/pygal.js/2.0.x/pygal-tooltips.min.js\"], \"legend_at_bottom\": false, \"legend_at_bottom_columns\": null, \"legend_box_size\": 12, \"logarithmic\": false, \"margin\": 20, \"margin_bottom\": null, \"margin_left\": null, \"margin_right\": null, \"margin_top\": null, \"max_scale\": 16, \"min_scale\": 4, \"missing_value_fill_truncation\": \"x\", \"no_data_text\": \"No data\", \"no_prefix\": false, \"order_min\": null, \"pretty_print\": false, \"print_labels\": false, \"print_values\": false, \"print_values_position\": \"center\", \"print_zeroes\": true, \"range\": null, \"rounded_bars\": null, \"secondary_range\": null, \"show_dots\": true, \"show_legend\": true, \"show_minor_x_labels\": true, \"show_minor_y_labels\": true, \"show_only_major_dots\": false, \"show_x_guides\": false, \"show_x_labels\": true, \"show_y_guides\": true, \"show_y_labels\": true, \"spacing\": 10, \"stack_from_top\": false, \"strict\": false, \"stroke\": true, \"stroke_style\": null, \"style\": {\"background\": \"#f9f9fa\", \"ci_colors\": [], \"colors\": [\"#d94e4c\", \"#e5884f\", \"#39929a\", \"#e27876\", \"#245d62\", \"#f0bb9b\", \"#c82d2a\", \"#234547\"], \"font_family\": \"Consolas, \\\"Liberation Mono\\\", Menlo, Courier, monospace\", \"foreground\": \"rgba(0, 0, 0, 0.9)\", \"foreground_strong\": \"rgba(0, 0, 0, 0.9)\", \"foreground_subtle\": \"rgba(0, 0, 0, 0.5)\", \"guide_stroke_dasharray\": \"4,4\", \"label_font_family\": \"Consolas, \\\"Liberation Mono\\\", Menlo, Courier, monospace\", \"label_font_size\": 10, \"legend_font_family\": \"Consolas, \\\"Liberation Mono\\\", Menlo, Courier, monospace\", \"legend_font_size\": 14, \"major_guide_stroke_dasharray\": \"6,6\", \"major_label_font_family\": \"Consolas, \\\"Liberation Mono\\\", Menlo, Courier, monospace\", \"major_label_font_size\": 10, \"no_data_font_family\": \"Consolas, \\\"Liberation Mono\\\", Menlo, Courier, monospace\", \"no_data_font_size\": 64, \"opacity\": \".6\", \"opacity_hover\": \".9\", \"plot_background\": \"#ffffff\", \"stroke_opacity\": \".8\", \"stroke_opacity_hover\": \".9\", \"title_font_family\": \"Consolas, \\\"Liberation Mono\\\", Menlo, Courier, monospace\", \"title_font_size\": 16, \"tooltip_font_family\": \"Consolas, \\\"Liberation Mono\\\", Menlo, Courier, monospace\", \"tooltip_font_size\": 14, \"transition\": \"150ms\", \"value_background\": \"rgba(229, 229, 229, 1)\", \"value_colors\": [], \"value_font_family\": \"Consolas, \\\"Liberation Mono\\\", Menlo, Courier, monospace\", \"value_font_size\": 16, \"value_label_font_family\": \"Consolas, \\\"Liberation Mono\\\", Menlo, Courier, monospace\", \"value_label_font_size\": 10}, \"title\": \"Matriz de Confusi\\u00f3n\", \"tooltip_border_radius\": 0, \"tooltip_fancy_mode\": true, \"truncate_label\": null, \"truncate_legend\": null, \"width\": 800, \"x_label_rotation\": 0, \"x_labels\": [\"eight\", \"five\", \"four\", \"nine\", \"one\", \"seven\", \"six\", \"three\", \"two\", \"zero\"], \"x_labels_major\": null, \"x_labels_major_count\": null, \"x_labels_major_every\": null, \"x_title\": \"Predicho\", \"xrange\": null, \"y_label_rotation\": 0, \"y_labels\": null, \"y_labels_major\": null, \"y_labels_major_count\": null, \"y_labels_major_every\": null, \"y_title\": \"Real\", \"zero\": 0, \"legends\": [\"eight\", \"five\", \"four\", \"nine\", \"one\", \"seven\", \"six\", \"three\", \"two\", \"zero\"]}</script><script type=\"text/javascript\" xlink:href=\"http://kozea.github.io/pygal.js/2.0.x/pygal-tooltips.min.js\"/></defs><title>Matriz de Confusión</title><g class=\"graph dot-graph vertical\"><rect class=\"background\" height=\"600\" width=\"800\" x=\"0\" y=\"0\"/><g class=\"plot\" transform=\"translate(150, 46)\"><rect class=\"background\" height=\"488\" width=\"630.0\" x=\"0\" y=\"0\"/><g class=\"axis y always_show\"><path class=\"line\" d=\"M0.000000 488.000000 h630.000000\"/><g class=\"guides\"><path class=\"guide line\" d=\"M0.000000 32.846154 h630.000000\"/><text class=\"\" x=\"-5\" y=\"36.34615384615381\">eight</text><title>9.5</title></g><g class=\"guides\"><path class=\"guide line\" d=\"M0.000000 79.769231 h630.000000\"/><text class=\"\" x=\"-5\" y=\"83.26923076923077\">five</text><title>8.5</title></g><g class=\"guides\"><path class=\"guide line\" d=\"M0.000000 126.692308 h630.000000\"/><text class=\"\" x=\"-5\" y=\"130.19230769230768\">four</text><title>7.5</title></g><g class=\"guides\"><path class=\"guide line\" d=\"M0.000000 173.615385 h630.000000\"/><text class=\"\" x=\"-5\" y=\"177.11538461538458\">nine</text><title>6.5</title></g><g class=\"guides\"><path class=\"guide line\" d=\"M0.000000 220.538462 h630.000000\"/><text class=\"\" x=\"-5\" y=\"224.0384615384615\">one</text><title>5.5</title></g><g class=\"guides\"><path class=\"guide line\" d=\"M0.000000 267.461538 h630.000000\"/><text class=\"\" x=\"-5\" y=\"270.96153846153845\">seven</text><title>4.5</title></g><g class=\"guides\"><path class=\"guide line\" d=\"M0.000000 314.384615 h630.000000\"/><text class=\"\" x=\"-5\" y=\"317.88461538461536\">six</text><title>3.5</title></g><g class=\"guides\"><path class=\"guide line\" d=\"M0.000000 361.307692 h630.000000\"/><text class=\"\" x=\"-5\" y=\"364.80769230769226\">three</text><title>2.5</title></g><g class=\"guides\"><path class=\"guide line\" d=\"M0.000000 408.230769 h630.000000\"/><text class=\"\" x=\"-5\" y=\"411.7307692307692\">two</text><title>1.5</title></g><g class=\"guides\"><path class=\"guide line\" d=\"M0.000000 455.153846 h630.000000\"/><text class=\"\" x=\"-5\" y=\"458.65384615384613\">zero</text><title>0.5</title></g></g><g class=\"axis x\"><path class=\"line\" d=\"M0.000000 0.000000 v488.000000\"/><g class=\"guides\"><path class=\"guide line\" d=\"M42.403846 0.000000 v488.000000\"/><text class=\"\" x=\"42.40384615384616\" y=\"503.0\">eight</text></g><g class=\"guides\"><path class=\"guide line\" d=\"M102.980769 0.000000 v488.000000\"/><text class=\"\" x=\"102.98076923076924\" y=\"503.0\">five</text></g><g class=\"guides\"><path class=\"guide line\" d=\"M163.557692 0.000000 v488.000000\"/><text class=\"\" x=\"163.55769230769232\" y=\"503.0\">four</text></g><g class=\"guides\"><path class=\"guide line\" d=\"M224.134615 0.000000 v488.000000\"/><text class=\"\" x=\"224.13461538461542\" y=\"503.0\">nine</text></g><g class=\"guides\"><path class=\"guide line\" d=\"M284.711538 0.000000 v488.000000\"/><text class=\"\" x=\"284.7115384615385\" y=\"503.0\">one</text></g><g class=\"guides\"><path class=\"guide line\" d=\"M345.288462 0.000000 v488.000000\"/><text class=\"\" x=\"345.2884615384616\" y=\"503.0\">seven</text></g><g class=\"guides\"><path class=\"guide line\" d=\"M405.865385 0.000000 v488.000000\"/><text class=\"\" x=\"405.8653846153847\" y=\"503.0\">six</text></g><g class=\"guides\"><path class=\"guide line\" d=\"M466.442308 0.000000 v488.000000\"/><text class=\"\" x=\"466.44230769230774\" y=\"503.0\">three</text></g><g class=\"guides\"><path class=\"guide line\" d=\"M527.019231 0.000000 v488.000000\"/><text class=\"\" x=\"527.0192307692308\" y=\"503.0\">two</text></g><g class=\"guides\"><path class=\"guide line\" d=\"M587.596154 0.000000 v488.000000\"/><text class=\"\" x=\"587.5961538461539\" y=\"503.0\">zero</text></g></g><g class=\"series serie-0 color-0\"><g class=\"dots\"><circle class=\"dot reactive tooltip-trigger\" cx=\"42.40384615384616\" cy=\"32.84615384615381\" r=\"21.72364672364674\"/><desc class=\"value\">210</desc><desc class=\"x centered\">42.40384615384616</desc><desc class=\"y centered\">32.84615384615381</desc><desc class=\"x_label\">eight</desc></g><g class=\"dots\"><circle class=\"dot reactive tooltip-trigger\" cx=\"102.98076923076924\" cy=\"32.84615384615381\" r=\"0.0\"/><desc class=\"value\">0</desc><desc class=\"x centered\">102.98076923076924</desc><desc class=\"y centered\">32.84615384615381</desc><desc class=\"x_label\">five</desc></g><g class=\"dots\"><circle class=\"dot reactive tooltip-trigger\" cx=\"163.55769230769232\" cy=\"32.84615384615381\" r=\"0.20689187355854036\"/><desc class=\"value\">2</desc><desc class=\"x centered\">163.55769230769232</desc><desc class=\"y centered\">32.84615384615381</desc><desc class=\"x_label\">four</desc></g><g class=\"dots\"><circle class=\"dot reactive tooltip-trigger\" cx=\"224.13461538461542\" cy=\"32.84615384615381\" r=\"0.6206756206756211\"/><desc class=\"value\">6</desc><desc class=\"x centered\">224.13461538461542</desc><desc class=\"y centered\">32.84615384615381</desc><desc class=\"x_label\">nine</desc></g><g class=\"dots\"><circle class=\"dot reactive tooltip-trigger\" cx=\"284.7115384615385\" cy=\"32.84615384615381\" r=\"0.10344593677927018\"/><desc class=\"value\">1</desc><desc class=\"x centered\">284.7115384615385</desc><desc class=\"y centered\">32.84615384615381</desc><desc class=\"x_label\">one</desc></g><g class=\"dots\"><circle class=\"dot reactive tooltip-trigger\" cx=\"345.2884615384616\" cy=\"32.84615384615381\" r=\"0.0\"/><desc class=\"value\">0</desc><desc class=\"x centered\">345.2884615384616</desc><desc class=\"y centered\">32.84615384615381</desc><desc class=\"x_label\">seven</desc></g><g class=\"dots\"><circle class=\"dot reactive tooltip-trigger\" cx=\"405.8653846153847\" cy=\"32.84615384615381\" r=\"1.3447971781305124\"/><desc class=\"value\">13</desc><desc class=\"x centered\">405.8653846153847</desc><desc class=\"y centered\">32.84615384615381</desc><desc class=\"x_label\">six</desc></g><g class=\"dots\"><circle class=\"dot reactive tooltip-trigger\" cx=\"466.44230769230774\" cy=\"32.84615384615381\" r=\"1.4482431149097825\"/><desc class=\"value\">14</desc><desc class=\"x centered\">466.44230769230774</desc><desc class=\"y centered\">32.84615384615381</desc><desc class=\"x_label\">three</desc></g><g class=\"dots\"><circle class=\"dot reactive tooltip-trigger\" cx=\"527.0192307692308\" cy=\"32.84615384615381\" r=\"0.8275674942341614\"/><desc class=\"value\">8</desc><desc class=\"x centered\">527.0192307692308</desc><desc class=\"y centered\">32.84615384615381</desc><desc class=\"x_label\">two</desc></g><g class=\"dots\"><circle class=\"dot reactive tooltip-trigger\" cx=\"587.5961538461539\" cy=\"32.84615384615381\" r=\"0.31033781033781055\"/><desc class=\"value\">3</desc><desc class=\"x centered\">587.5961538461539</desc><desc class=\"y centered\">32.84615384615381</desc><desc class=\"x_label\">zero</desc></g></g><g class=\"series serie-1 color-1\"><g class=\"dots\"><circle class=\"dot reactive tooltip-trigger\" cx=\"42.40384615384616\" cy=\"79.76923076923077\" r=\"0.31033781033781055\"/><desc class=\"value\">3</desc><desc class=\"x centered\">42.40384615384616</desc><desc class=\"y centered\">79.76923076923077</desc><desc class=\"x_label\">eight</desc></g><g class=\"dots\"><circle class=\"dot reactive tooltip-trigger\" cx=\"102.98076923076924\" cy=\"79.76923076923077\" r=\"22.34432234432236\"/><desc class=\"value\">216</desc><desc class=\"x centered\">102.98076923076924</desc><desc class=\"y centered\">79.76923076923077</desc><desc class=\"x_label\">five</desc></g><g class=\"dots\"><circle class=\"dot reactive tooltip-trigger\" cx=\"163.55769230769232\" cy=\"79.76923076923077\" r=\"0.9310134310134317\"/><desc class=\"value\">9</desc><desc class=\"x centered\">163.55769230769232</desc><desc class=\"y centered\">79.76923076923077</desc><desc class=\"x_label\">four</desc></g><g class=\"dots\"><circle class=\"dot reactive tooltip-trigger\" cx=\"224.13461538461542\" cy=\"79.76923076923077\" r=\"2.172364672364674\"/><desc class=\"value\">21</desc><desc class=\"x centered\">224.13461538461542</desc><desc class=\"y centered\">79.76923076923077</desc><desc class=\"x_label\">nine</desc></g><g class=\"dots\"><circle class=\"dot reactive tooltip-trigger\" cx=\"284.7115384615385\" cy=\"79.76923076923077\" r=\"0.10344593677927018\"/><desc class=\"value\">1</desc><desc class=\"x centered\">284.7115384615385</desc><desc class=\"y centered\">79.76923076923077</desc><desc class=\"x_label\">one</desc></g><g class=\"dots\"><circle class=\"dot reactive tooltip-trigger\" cx=\"345.2884615384616\" cy=\"79.76923076923077\" r=\"0.31033781033781055\"/><desc class=\"value\">3</desc><desc class=\"x centered\">345.2884615384616</desc><desc class=\"y centered\">79.76923076923077</desc><desc class=\"x_label\">seven</desc></g><g class=\"dots\"><circle class=\"dot reactive tooltip-trigger\" cx=\"405.8653846153847\" cy=\"79.76923076923077\" r=\"0.8275674942341614\"/><desc class=\"value\">8</desc><desc class=\"x centered\">405.8653846153847</desc><desc class=\"y centered\">79.76923076923077</desc><desc class=\"x_label\">six</desc></g><g class=\"dots\"><circle class=\"dot reactive tooltip-trigger\" cx=\"466.44230769230774\" cy=\"79.76923076923077\" r=\"0.6206756206756211\"/><desc class=\"value\">6</desc><desc class=\"x centered\">466.44230769230774</desc><desc class=\"y centered\">79.76923076923077</desc><desc class=\"x_label\">three</desc></g><g class=\"dots\"><circle class=\"dot reactive tooltip-trigger\" cx=\"527.0192307692308\" cy=\"79.76923076923077\" r=\"0.31033781033781055\"/><desc class=\"value\">3</desc><desc class=\"x centered\">527.0192307692308</desc><desc class=\"y centered\">79.76923076923077</desc><desc class=\"x_label\">two</desc></g><g class=\"dots\"><circle class=\"dot reactive tooltip-trigger\" cx=\"587.5961538461539\" cy=\"79.76923076923077\" r=\"0.10344593677927018\"/><desc class=\"value\">1</desc><desc class=\"x centered\">587.5961538461539</desc><desc class=\"y centered\">79.76923076923077</desc><desc class=\"x_label\">zero</desc></g></g><g class=\"series serie-2 color-2\"><g class=\"dots\"><circle class=\"dot reactive tooltip-trigger\" cx=\"42.40384615384616\" cy=\"126.69230769230768\" r=\"0.0\"/><desc class=\"value\">0</desc><desc class=\"x centered\">42.40384615384616</desc><desc class=\"y centered\">126.69230769230768</desc><desc class=\"x_label\">eight</desc></g><g class=\"dots\"><circle class=\"dot reactive tooltip-trigger\" cx=\"102.98076923076924\" cy=\"126.69230769230768\" r=\"1.9654727988061336\"/><desc class=\"value\">19</desc><desc class=\"x centered\">102.98076923076924</desc><desc class=\"y centered\">126.69230769230768</desc><desc class=\"x_label\">five</desc></g><g class=\"dots\"><circle class=\"dot reactive tooltip-trigger\" cx=\"163.55769230769232\" cy=\"126.69230769230768\" r=\"18.516822683489366\"/><desc class=\"value\">179</desc><desc class=\"x centered\">163.55769230769232</desc><desc class=\"y centered\">126.69230769230768</desc><desc class=\"x_label\">four</desc></g><g class=\"dots\"><circle class=\"dot reactive tooltip-trigger\" cx=\"224.13461538461542\" cy=\"126.69230769230768\" r=\"0.4137837471170807\"/><desc class=\"value\">4</desc><desc class=\"x centered\">224.13461538461542</desc><desc class=\"y centered\">126.69230769230768</desc><desc class=\"x_label\">nine</desc></g><g class=\"dots\"><circle class=\"dot reactive tooltip-trigger\" cx=\"284.7115384615385\" cy=\"126.69230769230768\" r=\"1.551689051689053\"/><desc class=\"value\">15</desc><desc class=\"x centered\">284.7115384615385</desc><desc class=\"y centered\">126.69230769230768</desc><desc class=\"x_label\">one</desc></g><g class=\"dots\"><circle class=\"dot reactive tooltip-trigger\" cx=\"345.2884615384616\" cy=\"126.69230769230768\" r=\"0.0\"/><desc class=\"value\">0</desc><desc class=\"x centered\">345.2884615384616</desc><desc class=\"y centered\">126.69230769230768</desc><desc class=\"x_label\">seven</desc></g><g class=\"dots\"><circle class=\"dot reactive tooltip-trigger\" cx=\"405.8653846153847\" cy=\"126.69230769230768\" r=\"1.2413512413512422\"/><desc class=\"value\">12</desc><desc class=\"x centered\">405.8653846153847</desc><desc class=\"y centered\">126.69230769230768</desc><desc class=\"x_label\">six</desc></g><g class=\"dots\"><circle class=\"dot reactive tooltip-trigger\" cx=\"466.44230769230774\" cy=\"126.69230769230768\" r=\"0.10344593677927018\"/><desc class=\"value\">1</desc><desc class=\"x centered\">466.44230769230774</desc><desc class=\"y centered\">126.69230769230768</desc><desc class=\"x_label\">three</desc></g><g class=\"dots\"><circle class=\"dot reactive tooltip-trigger\" cx=\"527.0192307692308\" cy=\"126.69230769230768\" r=\"1.6551349884683229\"/><desc class=\"value\">16</desc><desc class=\"x centered\">527.0192307692308</desc><desc class=\"y centered\">126.69230769230768</desc><desc class=\"x_label\">two</desc></g><g class=\"dots\"><circle class=\"dot reactive tooltip-trigger\" cx=\"587.5961538461539\" cy=\"126.69230769230768\" r=\"0.7241215574548913\"/><desc class=\"value\">7</desc><desc class=\"x centered\">587.5961538461539</desc><desc class=\"y centered\">126.69230769230768</desc><desc class=\"x_label\">zero</desc></g></g><g class=\"series serie-3 color-3\"><g class=\"dots\"><circle class=\"dot reactive tooltip-trigger\" cx=\"42.40384615384616\" cy=\"173.61538461538458\" r=\"0.31033781033781055\"/><desc class=\"value\">3</desc><desc class=\"x centered\">42.40384615384616</desc><desc class=\"y centered\">173.61538461538458</desc><desc class=\"x_label\">eight</desc></g><g class=\"dots\"><circle class=\"dot reactive tooltip-trigger\" cx=\"102.98076923076924\" cy=\"173.61538461538458\" r=\"1.0344593677927019\"/><desc class=\"value\">10</desc><desc class=\"x centered\">102.98076923076924</desc><desc class=\"y centered\">173.61538461538458</desc><desc class=\"x_label\">five</desc></g><g class=\"dots\"><circle class=\"dot reactive tooltip-trigger\" cx=\"163.55769230769232\" cy=\"173.61538461538458\" r=\"0.20689187355854036\"/><desc class=\"value\">2</desc><desc class=\"x centered\">163.55769230769232</desc><desc class=\"y centered\">173.61538461538458</desc><desc class=\"x_label\">four</desc></g><g class=\"dots\"><circle class=\"dot reactive tooltip-trigger\" cx=\"224.13461538461542\" cy=\"173.61538461538458\" r=\"20.58574141907477\"/><desc class=\"value\">199</desc><desc class=\"x centered\">224.13461538461542</desc><desc class=\"y centered\">173.61538461538458</desc><desc class=\"x_label\">nine</desc></g><g class=\"dots\"><circle class=\"dot reactive tooltip-trigger\" cx=\"284.7115384615385\" cy=\"173.61538461538458\" r=\"0.6206756206756211\"/><desc class=\"value\">6</desc><desc class=\"x centered\">284.7115384615385</desc><desc class=\"y centered\">173.61538461538458</desc><desc class=\"x_label\">one</desc></g><g class=\"dots\"><circle class=\"dot reactive tooltip-trigger\" cx=\"345.2884615384616\" cy=\"173.61538461538458\" r=\"1.137905304571972\"/><desc class=\"value\">11</desc><desc class=\"x centered\">345.2884615384616</desc><desc class=\"y centered\">173.61538461538458</desc><desc class=\"x_label\">seven</desc></g><g class=\"dots\"><circle class=\"dot reactive tooltip-trigger\" cx=\"405.8653846153847\" cy=\"173.61538461538458\" r=\"0.4137837471170807\"/><desc class=\"value\">4</desc><desc class=\"x centered\">405.8653846153847</desc><desc class=\"y centered\">173.61538461538458</desc><desc class=\"x_label\">six</desc></g><g class=\"dots\"><circle class=\"dot reactive tooltip-trigger\" cx=\"466.44230769230774\" cy=\"173.61538461538458\" r=\"1.0344593677927019\"/><desc class=\"value\">10</desc><desc class=\"x centered\">466.44230769230774</desc><desc class=\"y centered\">173.61538461538458</desc><desc class=\"x_label\">three</desc></g><g class=\"dots\"><circle class=\"dot reactive tooltip-trigger\" cx=\"527.0192307692308\" cy=\"173.61538461538458\" r=\"0.20689187355854036\"/><desc class=\"value\">2</desc><desc class=\"x centered\">527.0192307692308</desc><desc class=\"y centered\">173.61538461538458</desc><desc class=\"x_label\">two</desc></g><g class=\"dots\"><circle class=\"dot reactive tooltip-trigger\" cx=\"587.5961538461539\" cy=\"173.61538461538458\" r=\"1.2413512413512422\"/><desc class=\"value\">12</desc><desc class=\"x centered\">587.5961538461539</desc><desc class=\"y centered\">173.61538461538458</desc><desc class=\"x_label\">zero</desc></g></g><g class=\"series serie-4 color-4\"><g class=\"dots\"><circle class=\"dot reactive tooltip-trigger\" cx=\"42.40384615384616\" cy=\"220.5384615384615\" r=\"0.10344593677927018\"/><desc class=\"value\">1</desc><desc class=\"x centered\">42.40384615384616</desc><desc class=\"y centered\">220.5384615384615</desc><desc class=\"x_label\">eight</desc></g><g class=\"dots\"><circle class=\"dot reactive tooltip-trigger\" cx=\"102.98076923076924\" cy=\"220.5384615384615\" r=\"1.551689051689053\"/><desc class=\"value\">15</desc><desc class=\"x centered\">102.98076923076924</desc><desc class=\"y centered\">220.5384615384615</desc><desc class=\"x_label\">five</desc></g><g class=\"dots\"><circle class=\"dot reactive tooltip-trigger\" cx=\"163.55769230769232\" cy=\"220.5384615384615\" r=\"2.6895943562610247\"/><desc class=\"value\">26</desc><desc class=\"x centered\">163.55769230769232</desc><desc class=\"y centered\">220.5384615384615</desc><desc class=\"x_label\">four</desc></g><g class=\"dots\"><circle class=\"dot reactive tooltip-trigger\" cx=\"224.13461538461542\" cy=\"220.5384615384615\" r=\"5.06885090218424\"/><desc class=\"value\">49</desc><desc class=\"x centered\">224.13461538461542</desc><desc class=\"y centered\">220.5384615384615</desc><desc class=\"x_label\">nine</desc></g><g class=\"dots\"><circle class=\"dot reactive tooltip-trigger\" cx=\"284.7115384615385\" cy=\"220.5384615384615\" r=\"12.103174603174612\"/><desc class=\"value\">117</desc><desc class=\"x centered\">284.7115384615385</desc><desc class=\"y centered\">220.5384615384615</desc><desc class=\"x_label\">one</desc></g><g class=\"dots\"><circle class=\"dot reactive tooltip-trigger\" cx=\"345.2884615384616\" cy=\"220.5384615384615\" r=\"0.7241215574548913\"/><desc class=\"value\">7</desc><desc class=\"x centered\">345.2884615384616</desc><desc class=\"y centered\">220.5384615384615</desc><desc class=\"x_label\">seven</desc></g><g class=\"dots\"><circle class=\"dot reactive tooltip-trigger\" cx=\"405.8653846153847\" cy=\"220.5384615384615\" r=\"0.6206756206756211\"/><desc class=\"value\">6</desc><desc class=\"x centered\">405.8653846153847</desc><desc class=\"y centered\">220.5384615384615</desc><desc class=\"x_label\">six</desc></g><g class=\"dots\"><circle class=\"dot reactive tooltip-trigger\" cx=\"466.44230769230774\" cy=\"220.5384615384615\" r=\"0.10344593677927018\"/><desc class=\"value\">1</desc><desc class=\"x centered\">466.44230769230774</desc><desc class=\"y centered\">220.5384615384615</desc><desc class=\"x_label\">three</desc></g><g class=\"dots\"><circle class=\"dot reactive tooltip-trigger\" cx=\"527.0192307692308\" cy=\"220.5384615384615\" r=\"1.7585809252475932\"/><desc class=\"value\">17</desc><desc class=\"x centered\">527.0192307692308</desc><desc class=\"y centered\">220.5384615384615</desc><desc class=\"x_label\">two</desc></g><g class=\"dots\"><circle class=\"dot reactive tooltip-trigger\" cx=\"587.5961538461539\" cy=\"220.5384615384615\" r=\"0.9310134310134317\"/><desc class=\"value\">9</desc><desc class=\"x centered\">587.5961538461539</desc><desc class=\"y centered\">220.5384615384615</desc><desc class=\"x_label\">zero</desc></g></g><g class=\"series serie-5 color-5\"><g class=\"dots\"><circle class=\"dot reactive tooltip-trigger\" cx=\"42.40384615384616\" cy=\"267.46153846153845\" r=\"0.0\"/><desc class=\"value\">0</desc><desc class=\"x centered\">42.40384615384616</desc><desc class=\"y centered\">267.46153846153845</desc><desc class=\"x_label\">eight</desc></g><g class=\"dots\"><circle class=\"dot reactive tooltip-trigger\" cx=\"102.98076923076924\" cy=\"267.46153846153845\" r=\"3.103378103378106\"/><desc class=\"value\">30</desc><desc class=\"x centered\">102.98076923076924</desc><desc class=\"y centered\">267.46153846153845</desc><desc class=\"x_label\">five</desc></g><g class=\"dots\"><circle class=\"dot reactive tooltip-trigger\" cx=\"163.55769230769232\" cy=\"267.46153846153845\" r=\"0.6206756206756211\"/><desc class=\"value\">6</desc><desc class=\"x centered\">163.55769230769232</desc><desc class=\"y centered\">267.46153846153845</desc><desc class=\"x_label\">four</desc></g><g class=\"dots\"><circle class=\"dot reactive tooltip-trigger\" cx=\"224.13461538461542\" cy=\"267.46153846153845\" r=\"1.2413512413512422\"/><desc class=\"value\">12</desc><desc class=\"x centered\">224.13461538461542</desc><desc class=\"y centered\">267.46153846153845</desc><desc class=\"x_label\">nine</desc></g><g class=\"dots\"><circle class=\"dot reactive tooltip-trigger\" cx=\"284.7115384615385\" cy=\"267.46153846153845\" r=\"0.10344593677927018\"/><desc class=\"value\">1</desc><desc class=\"x centered\">284.7115384615385</desc><desc class=\"y centered\">267.46153846153845</desc><desc class=\"x_label\">one</desc></g><g class=\"dots\"><circle class=\"dot reactive tooltip-trigger\" cx=\"345.2884615384616\" cy=\"267.46153846153845\" r=\"15.206552706552719\"/><desc class=\"value\">147</desc><desc class=\"x centered\">345.2884615384616</desc><desc class=\"y centered\">267.46153846153845</desc><desc class=\"x_label\">seven</desc></g><g class=\"dots\"><circle class=\"dot reactive tooltip-trigger\" cx=\"405.8653846153847\" cy=\"267.46153846153845\" r=\"1.8620268620268634\"/><desc class=\"value\">18</desc><desc class=\"x centered\">405.8653846153847</desc><desc class=\"y centered\">267.46153846153845</desc><desc class=\"x_label\">six</desc></g><g class=\"dots\"><circle class=\"dot reactive tooltip-trigger\" cx=\"466.44230769230774\" cy=\"267.46153846153845\" r=\"0.20689187355854036\"/><desc class=\"value\">2</desc><desc class=\"x centered\">466.44230769230774</desc><desc class=\"y centered\">267.46153846153845</desc><desc class=\"x_label\">three</desc></g><g class=\"dots\"><circle class=\"dot reactive tooltip-trigger\" cx=\"527.0192307692308\" cy=\"267.46153846153845\" r=\"1.0344593677927019\"/><desc class=\"value\">10</desc><desc class=\"x centered\">527.0192307692308</desc><desc class=\"y centered\">267.46153846153845</desc><desc class=\"x_label\">two</desc></g><g class=\"dots\"><circle class=\"dot reactive tooltip-trigger\" cx=\"587.5961538461539\" cy=\"267.46153846153845\" r=\"1.3447971781305124\"/><desc class=\"value\">13</desc><desc class=\"x centered\">587.5961538461539</desc><desc class=\"y centered\">267.46153846153845</desc><desc class=\"x_label\">zero</desc></g></g><g class=\"series serie-6 color-6\"><g class=\"dots\"><circle class=\"dot reactive tooltip-trigger\" cx=\"42.40384615384616\" cy=\"314.38461538461536\" r=\"0.8275674942341614\"/><desc class=\"value\">8</desc><desc class=\"x centered\">42.40384615384616</desc><desc class=\"y centered\">314.38461538461536</desc><desc class=\"x_label\">eight</desc></g><g class=\"dots\"><circle class=\"dot reactive tooltip-trigger\" cx=\"102.98076923076924\" cy=\"314.38461538461536\" r=\"0.20689187355854036\"/><desc class=\"value\">2</desc><desc class=\"x centered\">102.98076923076924</desc><desc class=\"y centered\">314.38461538461536</desc><desc class=\"x_label\">five</desc></g><g class=\"dots\"><circle class=\"dot reactive tooltip-trigger\" cx=\"163.55769230769232\" cy=\"314.38461538461536\" r=\"0.10344593677927018\"/><desc class=\"value\">1</desc><desc class=\"x centered\">163.55769230769232</desc><desc class=\"y centered\">314.38461538461536</desc><desc class=\"x_label\">four</desc></g><g class=\"dots\"><circle class=\"dot reactive tooltip-trigger\" cx=\"224.13461538461542\" cy=\"314.38461538461536\" r=\"0.4137837471170807\"/><desc class=\"value\">4</desc><desc class=\"x centered\">224.13461538461542</desc><desc class=\"y centered\">314.38461538461536</desc><desc class=\"x_label\">nine</desc></g><g class=\"dots\"><circle class=\"dot reactive tooltip-trigger\" cx=\"284.7115384615385\" cy=\"314.38461538461536\" r=\"0.10344593677927018\"/><desc class=\"value\">1</desc><desc class=\"x centered\">284.7115384615385</desc><desc class=\"y centered\">314.38461538461536</desc><desc class=\"x_label\">one</desc></g><g class=\"dots\"><circle class=\"dot reactive tooltip-trigger\" cx=\"345.2884615384616\" cy=\"314.38461538461536\" r=\"0.4137837471170807\"/><desc class=\"value\">4</desc><desc class=\"x centered\">345.2884615384616</desc><desc class=\"y centered\">314.38461538461536</desc><desc class=\"x_label\">seven</desc></g><g class=\"dots\"><circle class=\"dot reactive tooltip-trigger\" cx=\"405.8653846153847\" cy=\"314.38461538461536\" r=\"21.309862976529658\"/><desc class=\"value\">206</desc><desc class=\"x centered\">405.8653846153847</desc><desc class=\"y centered\">314.38461538461536</desc><desc class=\"x_label\">six</desc></g><g class=\"dots\"><circle class=\"dot reactive tooltip-trigger\" cx=\"466.44230769230774\" cy=\"314.38461538461536\" r=\"0.9310134310134317\"/><desc class=\"value\">9</desc><desc class=\"x centered\">466.44230769230774</desc><desc class=\"y centered\">314.38461538461536</desc><desc class=\"x_label\">three</desc></g><g class=\"dots\"><circle class=\"dot reactive tooltip-trigger\" cx=\"527.0192307692308\" cy=\"314.38461538461536\" r=\"0.31033781033781055\"/><desc class=\"value\">3</desc><desc class=\"x centered\">527.0192307692308</desc><desc class=\"y centered\">314.38461538461536</desc><desc class=\"x_label\">two</desc></g><g class=\"dots\"><circle class=\"dot reactive tooltip-trigger\" cx=\"587.5961538461539\" cy=\"314.38461538461536\" r=\"0.6206756206756211\"/><desc class=\"value\">6</desc><desc class=\"x centered\">587.5961538461539</desc><desc class=\"y centered\">314.38461538461536</desc><desc class=\"x_label\">zero</desc></g></g><g class=\"series serie-7 color-7\"><g class=\"dots\"><circle class=\"dot reactive tooltip-trigger\" cx=\"42.40384615384616\" cy=\"361.30769230769226\" r=\"2.3792565459232144\"/><desc class=\"value\">23</desc><desc class=\"x centered\">42.40384615384616</desc><desc class=\"y centered\">361.30769230769226</desc><desc class=\"x_label\">eight</desc></g><g class=\"dots\"><circle class=\"dot reactive tooltip-trigger\" cx=\"102.98076923076924\" cy=\"361.30769230769226\" r=\"0.31033781033781055\"/><desc class=\"value\">3</desc><desc class=\"x centered\">102.98076923076924</desc><desc class=\"y centered\">361.30769230769226</desc><desc class=\"x_label\">five</desc></g><g class=\"dots\"><circle class=\"dot reactive tooltip-trigger\" cx=\"163.55769230769232\" cy=\"361.30769230769226\" r=\"0.0\"/><desc class=\"value\">0</desc><desc class=\"x centered\">163.55769230769232</desc><desc class=\"y centered\">361.30769230769226</desc><desc class=\"x_label\">four</desc></g><g class=\"dots\"><circle class=\"dot reactive tooltip-trigger\" cx=\"224.13461538461542\" cy=\"361.30769230769226\" r=\"0.9310134310134317\"/><desc class=\"value\">9</desc><desc class=\"x centered\">224.13461538461542</desc><desc class=\"y centered\">361.30769230769226</desc><desc class=\"x_label\">nine</desc></g><g class=\"dots\"><circle class=\"dot reactive tooltip-trigger\" cx=\"284.7115384615385\" cy=\"361.30769230769226\" r=\"0.10344593677927018\"/><desc class=\"value\">1</desc><desc class=\"x centered\">284.7115384615385</desc><desc class=\"y centered\">361.30769230769226</desc><desc class=\"x_label\">one</desc></g><g class=\"dots\"><circle class=\"dot reactive tooltip-trigger\" cx=\"345.2884615384616\" cy=\"361.30769230769226\" r=\"0.7241215574548913\"/><desc class=\"value\">7</desc><desc class=\"x centered\">345.2884615384616</desc><desc class=\"y centered\">361.30769230769226</desc><desc class=\"x_label\">seven</desc></g><g class=\"dots\"><circle class=\"dot reactive tooltip-trigger\" cx=\"405.8653846153847\" cy=\"361.30769230769226\" r=\"0.6206756206756211\"/><desc class=\"value\">6</desc><desc class=\"x centered\">405.8653846153847</desc><desc class=\"y centered\">361.30769230769226</desc><desc class=\"x_label\">six</desc></g><g class=\"dots\"><circle class=\"dot reactive tooltip-trigger\" cx=\"466.44230769230774\" cy=\"361.30769230769226\" r=\"16.86168769502104\"/><desc class=\"value\">163</desc><desc class=\"x centered\">466.44230769230774</desc><desc class=\"y centered\">361.30769230769226</desc><desc class=\"x_label\">three</desc></g><g class=\"dots\"><circle class=\"dot reactive tooltip-trigger\" cx=\"527.0192307692308\" cy=\"361.30769230769226\" r=\"3.724053724053727\"/><desc class=\"value\">36</desc><desc class=\"x centered\">527.0192307692308</desc><desc class=\"y centered\">361.30769230769226</desc><desc class=\"x_label\">two</desc></g><g class=\"dots\"><circle class=\"dot reactive tooltip-trigger\" cx=\"587.5961538461539\" cy=\"361.30769230769226\" r=\"1.9654727988061336\"/><desc class=\"value\">19</desc><desc class=\"x centered\">587.5961538461539</desc><desc class=\"y centered\">361.30769230769226</desc><desc class=\"x_label\">zero</desc></g></g><g class=\"series serie-8 color-8\"><g class=\"dots\"><circle class=\"dot reactive tooltip-trigger\" cx=\"42.40384615384616\" cy=\"408.2307692307692\" r=\"0.31033781033781055\"/><desc class=\"value\">3</desc><desc class=\"x centered\">42.40384615384616</desc><desc class=\"y centered\">408.2307692307692</desc><desc class=\"x_label\">eight</desc></g><g class=\"dots\"><circle class=\"dot reactive tooltip-trigger\" cx=\"102.98076923076924\" cy=\"408.2307692307692\" r=\"0.31033781033781055\"/><desc class=\"value\">3</desc><desc class=\"x centered\">102.98076923076924</desc><desc class=\"y centered\">408.2307692307692</desc><desc class=\"x_label\">five</desc></g><g class=\"dots\"><circle class=\"dot reactive tooltip-trigger\" cx=\"163.55769230769232\" cy=\"408.2307692307692\" r=\"0.9310134310134317\"/><desc class=\"value\">9</desc><desc class=\"x centered\">163.55769230769232</desc><desc class=\"y centered\">408.2307692307692</desc><desc class=\"x_label\">four</desc></g><g class=\"dots\"><circle class=\"dot reactive tooltip-trigger\" cx=\"224.13461538461542\" cy=\"408.2307692307692\" r=\"1.4482431149097825\"/><desc class=\"value\">14</desc><desc class=\"x centered\">224.13461538461542</desc><desc class=\"y centered\">408.2307692307692</desc><desc class=\"x_label\">nine</desc></g><g class=\"dots\"><circle class=\"dot reactive tooltip-trigger\" cx=\"284.7115384615385\" cy=\"408.2307692307692\" r=\"0.4137837471170807\"/><desc class=\"value\">4</desc><desc class=\"x centered\">284.7115384615385</desc><desc class=\"y centered\">408.2307692307692</desc><desc class=\"x_label\">one</desc></g><g class=\"dots\"><circle class=\"dot reactive tooltip-trigger\" cx=\"345.2884615384616\" cy=\"408.2307692307692\" r=\"0.5172296838963509\"/><desc class=\"value\">5</desc><desc class=\"x centered\">345.2884615384616</desc><desc class=\"y centered\">408.2307692307692</desc><desc class=\"x_label\">seven</desc></g><g class=\"dots\"><circle class=\"dot reactive tooltip-trigger\" cx=\"405.8653846153847\" cy=\"408.2307692307692\" r=\"1.4482431149097825\"/><desc class=\"value\">14</desc><desc class=\"x centered\">405.8653846153847</desc><desc class=\"y centered\">408.2307692307692</desc><desc class=\"x_label\">six</desc></g><g class=\"dots\"><circle class=\"dot reactive tooltip-trigger\" cx=\"466.44230769230774\" cy=\"408.2307692307692\" r=\"2.275810609143944\"/><desc class=\"value\">22</desc><desc class=\"x centered\">466.44230769230774</desc><desc class=\"y centered\">408.2307692307692</desc><desc class=\"x_label\">three</desc></g><g class=\"dots\"><circle class=\"dot reactive tooltip-trigger\" cx=\"527.0192307692308\" cy=\"408.2307692307692\" r=\"18.413376746710092\"/><desc class=\"value\">178</desc><desc class=\"x centered\">527.0192307692308</desc><desc class=\"y centered\">408.2307692307692</desc><desc class=\"x_label\">two</desc></g><g class=\"dots\"><circle class=\"dot reactive tooltip-trigger\" cx=\"587.5961538461539\" cy=\"408.2307692307692\" r=\"1.2413512413512422\"/><desc class=\"value\">12</desc><desc class=\"x centered\">587.5961538461539</desc><desc class=\"y centered\">408.2307692307692</desc><desc class=\"x_label\">zero</desc></g></g><g class=\"series serie-9 color-9\"><g class=\"dots\"><circle class=\"dot reactive tooltip-trigger\" cx=\"42.40384615384616\" cy=\"455.15384615384613\" r=\"0.0\"/><desc class=\"value\">0</desc><desc class=\"x centered\">42.40384615384616</desc><desc class=\"y centered\">455.15384615384613</desc><desc class=\"x_label\">eight</desc></g><g class=\"dots\"><circle class=\"dot reactive tooltip-trigger\" cx=\"102.98076923076924\" cy=\"455.15384615384613\" r=\"0.9310134310134317\"/><desc class=\"value\">9</desc><desc class=\"x centered\">102.98076923076924</desc><desc class=\"y centered\">455.15384615384613</desc><desc class=\"x_label\">five</desc></g><g class=\"dots\"><circle class=\"dot reactive tooltip-trigger\" cx=\"163.55769230769232\" cy=\"455.15384615384613\" r=\"0.31033781033781055\"/><desc class=\"value\">3</desc><desc class=\"x centered\">163.55769230769232</desc><desc class=\"y centered\">455.15384615384613</desc><desc class=\"x_label\">four</desc></g><g class=\"dots\"><circle class=\"dot reactive tooltip-trigger\" cx=\"224.13461538461542\" cy=\"455.15384615384613\" r=\"1.2413512413512422\"/><desc class=\"value\">12</desc><desc class=\"x centered\">224.13461538461542</desc><desc class=\"y centered\">455.15384615384613</desc><desc class=\"x_label\">nine</desc></g><g class=\"dots\"><circle class=\"dot reactive tooltip-trigger\" cx=\"284.7115384615385\" cy=\"455.15384615384613\" r=\"0.0\"/><desc class=\"value\">0</desc><desc class=\"x centered\">284.7115384615385</desc><desc class=\"y centered\">455.15384615384613</desc><desc class=\"x_label\">one</desc></g><g class=\"dots\"><circle class=\"dot reactive tooltip-trigger\" cx=\"345.2884615384616\" cy=\"455.15384615384613\" r=\"0.7241215574548913\"/><desc class=\"value\">7</desc><desc class=\"x centered\">345.2884615384616</desc><desc class=\"y centered\">455.15384615384613</desc><desc class=\"x_label\">seven</desc></g><g class=\"dots\"><circle class=\"dot reactive tooltip-trigger\" cx=\"405.8653846153847\" cy=\"455.15384615384613\" r=\"0.5172296838963509\"/><desc class=\"value\">5</desc><desc class=\"x centered\">405.8653846153847</desc><desc class=\"y centered\">455.15384615384613</desc><desc class=\"x_label\">six</desc></g><g class=\"dots\"><circle class=\"dot reactive tooltip-trigger\" cx=\"466.44230769230774\" cy=\"455.15384615384613\" r=\"1.7585809252475932\"/><desc class=\"value\">17</desc><desc class=\"x centered\">466.44230769230774</desc><desc class=\"y centered\">455.15384615384613</desc><desc class=\"x_label\">three</desc></g><g class=\"dots\"><circle class=\"dot reactive tooltip-trigger\" cx=\"527.0192307692308\" cy=\"455.15384615384613\" r=\"1.551689051689053\"/><desc class=\"value\">15</desc><desc class=\"x centered\">527.0192307692308</desc><desc class=\"y centered\">455.15384615384613</desc><desc class=\"x_label\">two</desc></g><g class=\"dots\"><circle class=\"dot reactive tooltip-trigger\" cx=\"587.5961538461539\" cy=\"455.15384615384613\" r=\"18.827160493827172\"/><desc class=\"value\">182</desc><desc class=\"x centered\">587.5961538461539</desc><desc class=\"y centered\">455.15384615384613</desc><desc class=\"x_label\">zero</desc></g></g></g><g class=\"titles\"><text class=\"title plot_title\" x=\"400.0\" y=\"26\">Matriz de Confusión</text><text class=\"title\" x=\"465.0\" y=\"580\">Predicho</text><text class=\"title\" x=\"64.0\" y=\"316.0\" transform=\"rotate(-90 64.000000 290.000000)\">Real</text></g><g class=\"plot overlay\" transform=\"translate(150, 46)\"><g class=\"series serie-0 color-0\"/><g class=\"series serie-1 color-1\"/><g class=\"series serie-2 color-2\"/><g class=\"series serie-3 color-3\"/><g class=\"series serie-4 color-4\"/><g class=\"series serie-5 color-5\"/><g class=\"series serie-6 color-6\"/><g class=\"series serie-7 color-7\"/><g class=\"series serie-8 color-8\"/><g class=\"series serie-9 color-9\"/></g><g class=\"plot text-overlay\" transform=\"translate(150, 46)\"><g class=\"series serie-0 color-0\"/><g class=\"series serie-1 color-1\"/><g class=\"series serie-2 color-2\"/><g class=\"series serie-3 color-3\"/><g class=\"series serie-4 color-4\"/><g class=\"series serie-5 color-5\"/><g class=\"series serie-6 color-6\"/><g class=\"series serie-7 color-7\"/><g class=\"series serie-8 color-8\"/><g class=\"series serie-9 color-9\"/></g><g class=\"plot tooltip-overlay\" transform=\"translate(150, 46)\"><g class=\"tooltip\" style=\"opacity: 0\" transform=\"translate(0 0)\"><rect class=\"tooltip-box\" height=\"0\" rx=\"0\" ry=\"0\" width=\"0\"/><g class=\"text\"/></g></g><g class=\"legends\" transform=\"translate(10, 56)\"><g class=\"legend reactive activate-serie\" id=\"activate-serie-0\"><rect class=\"color-0 reactive\" height=\"12\" width=\"12\" x=\"0.0\" y=\"1.0\"/><text x=\"17.0\" y=\"11.2\">eight</text></g><g class=\"legend reactive activate-serie\" id=\"activate-serie-1\"><rect class=\"color-1 reactive\" height=\"12\" width=\"12\" x=\"0.0\" y=\"22.0\"/><text x=\"17.0\" y=\"32.2\">five</text></g><g class=\"legend reactive activate-serie\" id=\"activate-serie-2\"><rect class=\"color-2 reactive\" height=\"12\" width=\"12\" x=\"0.0\" y=\"43.0\"/><text x=\"17.0\" y=\"53.2\">four</text></g><g class=\"legend reactive activate-serie\" id=\"activate-serie-3\"><rect class=\"color-3 reactive\" height=\"12\" width=\"12\" x=\"0.0\" y=\"64.0\"/><text x=\"17.0\" y=\"74.2\">nine</text></g><g class=\"legend reactive activate-serie\" id=\"activate-serie-4\"><rect class=\"color-4 reactive\" height=\"12\" width=\"12\" x=\"0.0\" y=\"85.0\"/><text x=\"17.0\" y=\"95.2\">one</text></g><g class=\"legend reactive activate-serie\" id=\"activate-serie-5\"><rect class=\"color-5 reactive\" height=\"12\" width=\"12\" x=\"0.0\" y=\"106.0\"/><text x=\"17.0\" y=\"116.2\">seven</text></g><g class=\"legend reactive activate-serie\" id=\"activate-serie-6\"><rect class=\"color-6 reactive\" height=\"12\" width=\"12\" x=\"0.0\" y=\"127.0\"/><text x=\"17.0\" y=\"137.2\">six</text></g><g class=\"legend reactive activate-serie\" id=\"activate-serie-7\"><rect class=\"color-7 reactive\" height=\"12\" width=\"12\" x=\"0.0\" y=\"148.0\"/><text x=\"17.0\" y=\"158.2\">three</text></g><g class=\"legend reactive activate-serie\" id=\"activate-serie-8\"><rect class=\"color-8 reactive\" height=\"12\" width=\"12\" x=\"0.0\" y=\"169.0\"/><text x=\"17.0\" y=\"179.2\">two</text></g><g class=\"legend reactive activate-serie\" id=\"activate-serie-9\"><rect class=\"color-9 reactive\" height=\"12\" width=\"12\" x=\"0.0\" y=\"190.0\"/><text x=\"17.0\" y=\"200.2\">zero</text></g></g><g class=\"legends\" transform=\"translate(790, 56)\"/></g></svg>\n",
              "    </figure>\n",
              "  </body>\n",
              "</html>\n"
            ],
            "text/plain": [
              "<IPython.core.display.HTML object>"
            ]
          },
          "metadata": {
            "tags": []
          }
        }
      ]
    }
  ]
}